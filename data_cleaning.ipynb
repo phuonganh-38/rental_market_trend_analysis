{
 "cells": [
  {
   "cell_type": "code",
   "execution_count": 1,
   "id": "c26e146b",
   "metadata": {},
   "outputs": [],
   "source": [
    "import numpy as np\n",
    "import pandas as pd\n",
    "import matplotlib.pyplot as plt\n",
    "import seaborn as sns"
   ]
  },
  {
   "cell_type": "markdown",
   "id": "170ac196-5152-4263-ac12-20f909b89a3a",
   "metadata": {},
   "source": [
    "### Load dataset"
   ]
  },
  {
   "cell_type": "code",
   "execution_count": 2,
   "id": "b1bca757",
   "metadata": {},
   "outputs": [
    {
     "data": {
      "text/html": [
       "<div>\n",
       "<style scoped>\n",
       "    .dataframe tbody tr th:only-of-type {\n",
       "        vertical-align: middle;\n",
       "    }\n",
       "\n",
       "    .dataframe tbody tr th {\n",
       "        vertical-align: top;\n",
       "    }\n",
       "\n",
       "    .dataframe thead th {\n",
       "        text-align: right;\n",
       "    }\n",
       "</style>\n",
       "<table border=\"1\" class=\"dataframe\">\n",
       "  <thead>\n",
       "    <tr style=\"text-align: right;\">\n",
       "      <th></th>\n",
       "      <th>Address</th>\n",
       "      <th>Suburb</th>\n",
       "      <th>State</th>\n",
       "      <th>Post code</th>\n",
       "      <th>Price</th>\n",
       "      <th>Property type</th>\n",
       "      <th>Bed</th>\n",
       "      <th>Bath</th>\n",
       "      <th>Parking</th>\n",
       "    </tr>\n",
       "  </thead>\n",
       "  <tbody>\n",
       "    <tr>\n",
       "      <th>0</th>\n",
       "      <td>3/9 Lambert Street,</td>\n",
       "      <td>CAMMERAY</td>\n",
       "      <td>NSW</td>\n",
       "      <td>2062</td>\n",
       "      <td>$690</td>\n",
       "      <td>Apartment / Unit / Flat</td>\n",
       "      <td>2 Beds</td>\n",
       "      <td>1 Bath</td>\n",
       "      <td>−</td>\n",
       "    </tr>\n",
       "    <tr>\n",
       "      <th>1</th>\n",
       "      <td>18 Chatham Way,</td>\n",
       "      <td>HARRISDALE</td>\n",
       "      <td>WA</td>\n",
       "      <td>6112</td>\n",
       "      <td>$820 / PER WEEK</td>\n",
       "      <td>House</td>\n",
       "      <td>4 Beds</td>\n",
       "      <td>2 Baths</td>\n",
       "      <td>2 Parking</td>\n",
       "    </tr>\n",
       "    <tr>\n",
       "      <th>2</th>\n",
       "      <td>102/157-163 Burwood Road,</td>\n",
       "      <td>HAWTHORN</td>\n",
       "      <td>VIC</td>\n",
       "      <td>3122</td>\n",
       "      <td>$580.00 per week</td>\n",
       "      <td>Apartment / Unit / Flat</td>\n",
       "      <td>2 Beds</td>\n",
       "      <td>1 Bath</td>\n",
       "      <td>1 Parking</td>\n",
       "    </tr>\n",
       "    <tr>\n",
       "      <th>3</th>\n",
       "      <td>77 Unnaro St,</td>\n",
       "      <td>COOLOONGUP</td>\n",
       "      <td>WA</td>\n",
       "      <td>6168</td>\n",
       "      <td>$570 Per Week</td>\n",
       "      <td>House</td>\n",
       "      <td>3 Beds</td>\n",
       "      <td>2 Baths</td>\n",
       "      <td>3 Parking</td>\n",
       "    </tr>\n",
       "    <tr>\n",
       "      <th>4</th>\n",
       "      <td>7/77 Milson Road,</td>\n",
       "      <td>CREMORNE POINT</td>\n",
       "      <td>NSW</td>\n",
       "      <td>2090</td>\n",
       "      <td>$850.00 pw</td>\n",
       "      <td>Apartment / Unit / Flat</td>\n",
       "      <td>2 Beds</td>\n",
       "      <td>1 Bath</td>\n",
       "      <td>−</td>\n",
       "    </tr>\n",
       "  </tbody>\n",
       "</table>\n",
       "</div>"
      ],
      "text/plain": [
       "                      Address          Suburb State  Post code  \\\n",
       "0        3/9 Lambert Street,         CAMMERAY   NSW       2062   \n",
       "1            18 Chatham Way,       HARRISDALE    WA       6112   \n",
       "2  102/157-163 Burwood Road,         HAWTHORN   VIC       3122   \n",
       "3              77 Unnaro St,       COOLOONGUP    WA       6168   \n",
       "4          7/77 Milson Road,   CREMORNE POINT   NSW       2090   \n",
       "\n",
       "              Price            Property type     Bed     Bath    Parking  \n",
       "0              $690  Apartment / Unit / Flat  2 Beds   1 Bath          −  \n",
       "1   $820 / PER WEEK                    House  4 Beds  2 Baths  2 Parking  \n",
       "2  $580.00 per week  Apartment / Unit / Flat  2 Beds   1 Bath  1 Parking  \n",
       "3     $570 Per Week                    House  3 Beds  2 Baths  3 Parking  \n",
       "4        $850.00 pw  Apartment / Unit / Flat  2 Beds   1 Bath          −  "
      ]
     },
     "execution_count": 2,
     "metadata": {},
     "output_type": "execute_result"
    }
   ],
   "source": [
    "# Loading data\n",
    "df = pd.read_csv('properties.csv')\n",
    "df.head()"
   ]
  },
  {
   "cell_type": "markdown",
   "id": "0efb0399",
   "metadata": {},
   "source": [
    "### Explore the dataset"
   ]
  },
  {
   "cell_type": "code",
   "execution_count": 3,
   "id": "7a5a2850",
   "metadata": {
    "scrolled": true
   },
   "outputs": [
    {
     "data": {
      "text/plain": [
       "(996, 9)"
      ]
     },
     "execution_count": 3,
     "metadata": {},
     "output_type": "execute_result"
    }
   ],
   "source": [
    "# Check dimension\n",
    "df.shape"
   ]
  },
  {
   "cell_type": "code",
   "execution_count": 4,
   "id": "9b6bfc0f",
   "metadata": {
    "scrolled": true
   },
   "outputs": [
    {
     "name": "stdout",
     "output_type": "stream",
     "text": [
      "<class 'pandas.core.frame.DataFrame'>\n",
      "RangeIndex: 996 entries, 0 to 995\n",
      "Data columns (total 9 columns):\n",
      " #   Column         Non-Null Count  Dtype \n",
      "---  ------         --------------  ----- \n",
      " 0   Address        996 non-null    object\n",
      " 1   Suburb         996 non-null    object\n",
      " 2   State          996 non-null    object\n",
      " 3   Post code      996 non-null    int64 \n",
      " 4   Price          996 non-null    object\n",
      " 5   Property type  996 non-null    object\n",
      " 6   Bed            996 non-null    object\n",
      " 7   Bath           996 non-null    object\n",
      " 8   Parking        996 non-null    object\n",
      "dtypes: int64(1), object(8)\n",
      "memory usage: 70.2+ KB\n"
     ]
    }
   ],
   "source": [
    "# Check info\n",
    "df.info()"
   ]
  },
  {
   "cell_type": "markdown",
   "id": "cfca1b5a",
   "metadata": {},
   "source": [
    "### Data cleaning"
   ]
  },
  {
   "cell_type": "code",
   "execution_count": 5,
   "id": "86c1ef19-cbb5-452c-afe7-12b593eda6ad",
   "metadata": {},
   "outputs": [],
   "source": [
    "# Rename columns to \n",
    "df.rename(columns={'Address': 'address',\n",
    "                   'Suburb': 'suburb',\n",
    "                   'State': 'state',\n",
    "                   'Post code': 'post_code',\n",
    "                   'Price': 'price',\n",
    "                   'Property type': 'property_type',\n",
    "                   'Bed': 'bed',\n",
    "                   'Bath': 'bath',\n",
    "                   'Parking': 'parking'}, inplace=True)"
   ]
  },
  {
   "cell_type": "markdown",
   "id": "128e02f5-0739-4d21-b797-3732a55fcace",
   "metadata": {},
   "source": [
    "#### Inconsistancies in the \"Price\" column"
   ]
  },
  {
   "cell_type": "code",
   "execution_count": 6,
   "id": "57f91bf6",
   "metadata": {
    "scrolled": true
   },
   "outputs": [
    {
     "name": "stdout",
     "output_type": "stream",
     "text": [
      "                        address          suburb state  post_code   price  \\\n",
      "0          3/9 Lambert Street,         CAMMERAY   NSW       2062   690.0   \n",
      "1              18 Chatham Way,       HARRISDALE    WA       6112   820.0   \n",
      "2    102/157-163 Burwood Road,         HAWTHORN   VIC       3122   580.0   \n",
      "3                77 Unnaro St,       COOLOONGUP    WA       6168   570.0   \n",
      "4            7/77 Milson Road,   CREMORNE POINT   NSW       2090   850.0   \n",
      "..                          ...             ...   ...        ...     ...   \n",
      "991          73/1 Kiara Close,     NORTH SYDNEY   NSW       2060  1250.0   \n",
      "992         13 Northend Close,        SWAN VIEW    WA       6056   580.0   \n",
      "993    18/2-6 Junction Street,             RYDE   NSW       2112   680.0   \n",
      "994      648A Willoughby Road,       WILLOUGHBY   NSW       2068  1150.0   \n",
      "995            40 Orania Cres,        CALAMVALE   QLD       4116   650.0   \n",
      "\n",
      "               property_type     bed     bath    parking  \n",
      "0    Apartment / Unit / Flat  2 Beds   1 Bath          −  \n",
      "1                      House  4 Beds  2 Baths  2 Parking  \n",
      "2    Apartment / Unit / Flat  2 Beds   1 Bath  1 Parking  \n",
      "3                      House  3 Beds  2 Baths  3 Parking  \n",
      "4    Apartment / Unit / Flat  2 Beds   1 Bath          −  \n",
      "..                       ...     ...      ...        ...  \n",
      "991  Apartment / Unit / Flat  2 Beds  2 Baths  2 Parking  \n",
      "992                    House  4 Beds  2 Baths  1 Parking  \n",
      "993  Apartment / Unit / Flat   1 Bed   1 Bath  1 Parking  \n",
      "994                    House  2 Beds   1 Bath  2 Parking  \n",
      "995                    House  4 Beds  2 Baths  4 Parking  \n",
      "\n",
      "[996 rows x 9 columns]\n"
     ]
    }
   ],
   "source": [
    "# Handling column \"Price\"\n",
    "import re\n",
    "\n",
    "def extract_numbers(price):\n",
    "    if isinstance(price, str): # Ensure dtype of 'Price' is string\n",
    "        match = re.search(r'\\d[\\d,]*', price) # Apply regex\n",
    "        return int(match.group().replace(',', '')) if match else None # Remove commas and convert to integer\n",
    "    return None\n",
    "\n",
    "# Apply to column 'Price'\n",
    "df['price'] = df['price'].apply(extract_numbers)\n",
    "print(df)"
   ]
  },
  {
   "cell_type": "markdown",
   "id": "cdaefea5",
   "metadata": {},
   "source": [
    "'Price' column contains values in various format:\n",
    "   \n",
    "   - Plain numeric values (`$690`)\n",
    "   \n",
    "   - Decimals (`$850.00`)\n",
    "   \n",
    "   - Descriptive formats (`$750 pw`, `$750 PER WEEK`, `$750 Per week`, `$750 per week`, `$750 weekly`)\n",
    "\n",
    "   - Incorrect typos (`$4000/w`)\n",
    "   \n",
    "   - Comma-separated currency format (`$1,150`)\n",
    "   \n",
    "   - Noisy entries (`$650 per week!! Fully Air-conditioned Property!`)\n",
    "\n",
    "*Standardizing price*: The pattern `\\d[\\d]*` matches any sequence starting with a digit followed by digits or commas. It will stop matching at the first non-digit/non-comma character.\n",
    "   + `\\d`: match the first digit\n",
    "    \n",
    "   + `[\\d,]*`: match digits and commas, keep matching as long as the characters are digits and commas\n",
    "   "
   ]
  },
  {
   "cell_type": "markdown",
   "id": "0fce2ee4-6f0c-4f33-ba65-f75bfa34717a",
   "metadata": {},
   "source": [
    "#### Extraneous text in numeric fields"
   ]
  },
  {
   "cell_type": "code",
   "execution_count": 7,
   "id": "4072293b",
   "metadata": {},
   "outputs": [],
   "source": [
    "# Extract only number if column bed, bath, and parking\n",
    "def extract_count(count):\n",
    "    if isinstance(count, str):\n",
    "        numbers = ''.join(re.findall(r'\\d+', count)) # Use regex to find\n",
    "        return int(numbers) if numbers else None\n",
    "    return None\n",
    "\n",
    "# Apply to column bed, bath, and parking\n",
    "df['bed'] = df['bed'].apply(extract_count)\n",
    "df['bath'] = df['bath'].apply(extract_count)\n",
    "df['parking'] = df['parking'].apply(extract_count)"
   ]
  },
  {
   "cell_type": "code",
   "execution_count": 8,
   "id": "d1d62ad2-4b9c-4614-a7b2-a972d3c494dd",
   "metadata": {},
   "outputs": [
    {
     "data": {
      "text/plain": [
       "address           object\n",
       "suburb            object\n",
       "state             object\n",
       "post_code          int64\n",
       "price            float64\n",
       "property_type     object\n",
       "bed              float64\n",
       "bath             float64\n",
       "parking          float64\n",
       "dtype: object"
      ]
     },
     "execution_count": 8,
     "metadata": {},
     "output_type": "execute_result"
    }
   ],
   "source": [
    "# Check dtypes of bed, bath, and parking\n",
    "df.dtypes"
   ]
  },
  {
   "cell_type": "code",
   "execution_count": 9,
   "id": "71a552a6",
   "metadata": {},
   "outputs": [],
   "source": [
    "# Handle missing values and convert values to int\n",
    "df['bed'] = df['bed'].fillna(0).astype(int)\n",
    "df['bath'] = df['bath'].fillna(0).astype(int)\n",
    "df['parking'] = df['parking'].fillna(0).astype(int)"
   ]
  },
  {
   "cell_type": "markdown",
   "id": "f82a56e3-01c0-4873-bdd4-9e557e354f29",
   "metadata": {},
   "source": [
    "#### Cleaning up Address"
   ]
  },
  {
   "cell_type": "code",
   "execution_count": 10,
   "id": "300876ff",
   "metadata": {
    "scrolled": true
   },
   "outputs": [],
   "source": [
    "# Remove comma and any whitespace at the end of column \"address\"\n",
    "df['address'] = df['address'].str.rstrip(', ')"
   ]
  },
  {
   "cell_type": "markdown",
   "id": "5ea4866d-07a1-4e8b-b718-c8b86b33eca0",
   "metadata": {},
   "source": [
    "#### Check Suburb and State"
   ]
  },
  {
   "cell_type": "code",
   "execution_count": 11,
   "id": "8f9ee73c",
   "metadata": {
    "scrolled": true
   },
   "outputs": [
    {
     "name": "stdout",
     "output_type": "stream",
     "text": [
      "Number of unique suburbs: 475\n"
     ]
    }
   ],
   "source": [
    "unique_suburb = df[\"suburb\"].nunique()\n",
    "print(f\"Number of unique suburbs: {unique_suburb}\")"
   ]
  },
  {
   "cell_type": "code",
   "execution_count": 12,
   "id": "1f20c83d",
   "metadata": {},
   "outputs": [
    {
     "data": {
      "text/plain": [
       "array(['CAMMERAY', 'HARRISDALE', 'HAWTHORN', 'COOLOONGUP',\n",
       "       'CREMORNE POINT', 'EARLWOOD', 'ST KILDA', 'MERRYLANDS', 'CAMILLO',\n",
       "       'ROSEVILLE', 'GORDON', 'ULTIMO', 'ZETLAND', 'BANKSTOWN',\n",
       "       'CAMPBELL', 'REDLYNCH', 'MOOROOBOOL', 'GREENSBOROUGH',\n",
       "       'HELENSVALE', 'REDFERN', 'BRUNSWICK', 'EDGECLIFF', 'MAROUBRA',\n",
       "       'SOUTH YARRA', 'NORTH MELBOURNE', 'TUART HILL', 'NORTH SYDNEY',\n",
       "       'GREENWAY', 'KENSINGTON', 'SOUTHBANK', 'ASHFIELD', 'KINGSLEY',\n",
       "       'MALVERN EAST', 'DUBBO', 'WOOLLAHRA', 'PORT MELBOURNE',\n",
       "       'DARLINGHURST', 'KINGSTON', 'GUNGAHLIN', 'GRIFFIN', 'APPLECROSS',\n",
       "       'COMO', 'ELWOOD', 'STRATHFIELD', 'ANNANDALE', 'MIDDLETON',\n",
       "       'DARWIN CITY', 'WENTWORTH POINT', 'MELBOURNE', 'BRIGHTON',\n",
       "       'PHILLIP', 'GLEN IRIS', 'RIPPONLEA', 'BONDI JUNCTION',\n",
       "       'ST LEONARDS', 'LANE COVE', 'ORMOND', 'AUCHENFLOWER', 'CALDERWOOD',\n",
       "       'CREMORNE', 'BARTON', 'ABBOTSFORD', 'CHIPPENDALE', 'POTTS POINT',\n",
       "       'DOUBLE BAY', 'PENRITH', 'COBURG NORTH', 'CLAYFIELD',\n",
       "       'SURRY HILLS', 'SHOAL BAY', 'ARMADALE', 'TWEED HEADS SOUTH',\n",
       "       'FIVE DOCK', 'WAVERLEY', 'WILEY PARK', 'CROYDON PARK',\n",
       "       'MIDDLE RIDGE', 'WOODLANDS', 'BURDELL', 'CAMERON PARK',\n",
       "       'BELLEVUE HILL', 'WOOLLOOMOOLOO', 'MILSONS POINT', 'BELLBIRD PARK',\n",
       "       'KIRRIBILLI', 'SYDNEY', 'WYNDHAM VALE', 'MOSMAN', 'HENDRA',\n",
       "       'ARTARMON', 'ROSE BAY', 'BELCONNEN', 'REID', 'WATERLOO', 'KEW',\n",
       "       'QUEANBEYAN', 'BRADDON', 'PIMLICO', 'PUNCHBOWL', 'ASHBURTON',\n",
       "       'ENFIELD', 'FOOTSCRAY', 'CLEVELAND', 'COOMBS', 'NORTH TOOWOOMBA',\n",
       "       'BELMONT NORTH', 'NORTH RYDE', 'WEST MELBOURNE',\n",
       "       'NARRE WARREN SOUTH', 'WILLOUGHBY', 'FOREST LODGE', 'RANDWICK',\n",
       "       'FLETCHER', 'EAST ALBURY', 'ST IVES', 'FORDE', 'PETERSHAM',\n",
       "       'STRATHPINE', 'BRUCE', 'ST KILDA EAST', 'GLEN HUNTLY', 'WODONGA',\n",
       "       'COLLINGWOOD', 'TURRAMURRA', 'ADELAIDE', 'DICKSON', 'WATSON',\n",
       "       'ROUSE HILL', 'CHATSWOOD', 'NORTH BONDI', 'RYDE', 'NORTH RICHMOND',\n",
       "       'SANDRINGHAM', 'HORNSBY', 'PARKVILLE', 'ZILLMERE', 'NAIRNE',\n",
       "       'GLEBE', 'NEWNHAM', 'ALPHINGTON', 'CAMPERDOWN', 'NEWCASTLE',\n",
       "       'VAUCLUSE', 'COORPAROO', 'NORTH ALBURY', 'PADDINGTON', 'SEATON',\n",
       "       'THORNLEIGH', 'BUNDOORA', 'DARRA', 'MOUNT BARKER', 'TERRANORA',\n",
       "       'CAULFIELD NORTH', 'OAKS ESTATE', 'KAMBAH', 'MORAYFIELD',\n",
       "       'NEUTRAL BAY', 'LOCKROSE', 'DULWICH HILL', 'QUEANBEYAN EAST',\n",
       "       'FLYNN', 'SAFETY BEACH', 'EIGHT MILE PLAINS', 'CRACE',\n",
       "       'VARSITY LAKES', 'REGENTS PARK', 'NORTH WARD', 'AMAROO',\n",
       "       'RICHMOND', 'HILLSDALE', 'COOGEE', \"O'CONNOR\", 'ELSTERNWICK',\n",
       "       'MANGO HILL', 'CARNEGIE', 'CARLINGFORD', 'LYNEHAM', 'BLACKETT',\n",
       "       'CAMBERWELL', 'PYMBLE', 'MOUNT LOUISA', 'RACEVIEW',\n",
       "       'STANHOPE GARDENS', 'HAWKER', 'IVANHOE', 'KIRRAWEE',\n",
       "       'NORTH PARRAMATTA', 'SEVEN HILLS', 'LINDEN PARK', 'CANTERBURY',\n",
       "       'BELLMERE', 'LAVENDER BAY', 'OATLEY', 'NEW FARM', 'REDBANK PLAINS',\n",
       "       'HOLMVIEW', 'CARRARA', 'KLEMZIG', 'FOREST GLEN', 'DOUGLAS',\n",
       "       'STRATHFIELD SOUTH', 'WAVERTON', 'CLIFTON HILL', 'BENTLEIGH',\n",
       "       'CANNING VALE', 'DOVER HEIGHTS', 'SLACKS CREEK', 'CAVES BEACH',\n",
       "       'DOCKLANDS', 'KINGSFORD', 'SOUTHPORT', 'ASHGROVE',\n",
       "       'UPPER MOUNT GRAVATT', 'LIVERPOOL', 'LYONS', 'SEFTON', 'PRAHRAN',\n",
       "       'BRIGHTON EAST', 'CARLTON', 'FITZROY NORTH', 'PALMERSTON',\n",
       "       'EASTGARDENS', 'BALMAIN EAST', 'CHIFLEY', 'BONDI', 'MANLY',\n",
       "       'BLACKBURN', 'SAUNDERS BEACH', 'EASTLAKES', 'THE GAP', 'MOUNT LOW',\n",
       "       'GOOGONG', 'LINDFIELD', 'HURSTVILLE', 'PARRAMATTA', 'OXENFORD',\n",
       "       'NEWTOWN', 'HOMEBUSH WEST', 'CRANBROOK', 'HAMPTON',\n",
       "       'FRANKSTON SOUTH', 'KEW EAST', 'KELSO', 'DENMAN PROSPECT',\n",
       "       'HOMEBUSH', 'GOLDEN BEACH', 'WRIGHT', 'YANCHEP', 'MANSFIELD',\n",
       "       'CLARINDA', 'SINNAMON PARK', 'ELIZABETH BAY', 'UPPER COOMERA',\n",
       "       'SPRINGFIELD LAKES', 'BENTLEIGH EAST', 'DRUMMOYNE',\n",
       "       'OAKLEIGH EAST', 'PORT MACQUARIE', 'TOWNSVILLE CITY',\n",
       "       'KENSINGTON GROVE', 'NAREMBURN', 'RUSHCUTTERS BAY', 'MEREWETHER',\n",
       "       'FISHER', 'YAGOONA', 'NORTH HAVEN', 'WOOLOOWARE',\n",
       "       'BARRACK HEIGHTS', 'YARRALUMLA', 'GEORGE TOWN', 'MALVERN',\n",
       "       'LENAH VALLEY', 'NEWINGTON', 'CARLTON NORTH', 'BELFIELD',\n",
       "       'WHITLAM', 'MARRICKVILLE', 'MOUNT LOFTY', 'SPRINGFIELD',\n",
       "       'NORTH KELLYVILLE', 'BURWOOD', 'RIVERSTONE', 'BONDI BEACH',\n",
       "       'KARABAR', 'AUBURN', 'KOGARAH', 'ST PETERS', 'HUNTLY',\n",
       "       'BIRCHGROVE', 'MURRUMBA DOWNS', 'PENNANT HILLS', 'SEVILLE GROVE',\n",
       "       'BEACHMERE', 'PARK RIDGE', 'SALAMANDER BAY', 'LOGAN RESERVE',\n",
       "       'BORONIA', 'KENMORE', 'LILYFIELD', 'BALMAIN', 'DEVON PARK',\n",
       "       'KELLYVILLE', 'ROSSLEA', 'BENOWA', 'BERKELEY VALE', 'GRIFFITH',\n",
       "       'LAWSON', 'ROZELLE', 'WICKHAM', 'DOOLANDELLA', 'ISABELLA PLAINS',\n",
       "       'GREENACRE', 'HOLT', 'BAYSWATER', 'PEREGIAN SPRINGS', 'BONNER',\n",
       "       'EAST MELBOURNE', 'FRESHWATER', 'HOPE ISLAND', 'GLENEAGLE',\n",
       "       'NICHOLLS', 'MOLENDINAR', 'CANNONVALE', 'WEST END', 'HACKETT',\n",
       "       'HARRISON', 'FORREST', 'FITZGIBBON', 'RUSSELL LEA', 'BALGOWLAH',\n",
       "       'MEADOWBANK', 'TAMARAMA', 'CHAPMAN', 'PIARA WATERS',\n",
       "       'PICNIC POINT', 'CHARLESTOWN', 'MATRAVILLE', 'LEICHHARDT',\n",
       "       'MACQUARIE', 'CAMPBELLTOWN', 'BONEO', 'PYRMONT', 'GAWLER EAST',\n",
       "       'CARWOOLA', 'BADAGARANG', 'WERRIBEE', 'BOTANY', 'BALACLAVA',\n",
       "       'MIAMI', 'MERMAID BEACH', 'MERMAID WATERS', 'WEST MACKAY',\n",
       "       'BROADBEACH WATERS', 'CURTIN', 'SPEERS POINT', 'SURFERS PARADISE',\n",
       "       'EPPING', 'TOORAK', 'FRANKLIN', 'WOODWARK', 'HABERFIELD', 'TURNER',\n",
       "       'MASCOT', 'MOONAH', 'CITY', 'CAIRNS CITY', 'PARKES', 'CASEY',\n",
       "       'TINGALPA', 'RAILWAY ESTATE', 'EAST BRISBANE', 'GUILDFORD',\n",
       "       'RHODES', 'BUNDABERG SOUTH', 'MEDOWIE', 'JERRABOMBERRA',\n",
       "       'CARINDALE', 'CHISHOLM', 'COOMERA', 'WESTMEAD', 'HIGHETT',\n",
       "       'CLOVELLY', 'NORTH EPPING', 'BEECROFT', 'MARIBYRNONG',\n",
       "       'REEDY CREEK', 'VICTORIA POINT', 'LANE COVE NORTH', 'SCARBOROUGH',\n",
       "       'PAKENHAM', 'THE PONDS', 'SWANBOURNE', 'NORTH LAKES', 'MILL PARK',\n",
       "       'ERSKINEVILLE', 'TURRELLA', 'BOX HILL', 'NARANGBA', 'CABARITA',\n",
       "       'MONT ALBERT', 'GIRALANG', 'NGUNNAWAL', 'SINAGRA', 'MENTONE',\n",
       "       'WANTIRNA SOUTH', 'DOWNER', 'CLAYTON', 'PAGEWOOD', 'REDBANK',\n",
       "       'CAULFIELD', 'HAWTHORNE', 'MIRANDA', 'GATTON', 'REDCLIFFE',\n",
       "       'GAYTHORNE', 'NEW TOWN', 'SYDNEY OLYMPIC PARK', 'MANLY WEST',\n",
       "       'ALEXANDRIA', 'FLEMINGTON', 'FITZROY', 'JACKASS FLAT', 'ROSEBERY',\n",
       "       'DINGLEY VILLAGE', 'NUNDAH', 'NORTHCOTE', 'CHISWICK',\n",
       "       'DARLING HEIGHTS', 'MORDIALLOC', 'ANDERGROVE', 'SHEFFIELD',\n",
       "       'CROYDON', 'TENNYSON POINT', 'GLADESVILLE', 'ST KILDA WEST',\n",
       "       'LAKEMBA', 'OAKLEIGH', 'ASQUITH', 'HIGHGATE', 'HUNTERS HILL',\n",
       "       'MELBA', 'HOLSWORTHY', 'RANGEVILLE', 'BARANGAROO', 'NIRIMBA',\n",
       "       'MACQUARIE PARK', 'CASTLECRAG', 'STRATHNAIRN', 'WEST HOBART',\n",
       "       'KURRALTA PARK', 'THURGOONA', 'MODBURY NORTH', 'RIVERVIEW',\n",
       "       'KIRWAN', 'MOUNT COLAH', 'PARADISE POINT', 'MAUDSLAND', 'WARATAH',\n",
       "       'BROADBEACH', 'BEENLEIGH', 'PHILLIP BAY', 'VIRGINIA',\n",
       "       'MURRUMBEENA', 'LIDCOMBE', 'FLINDERS', 'DARLING POINT',\n",
       "       'RIVERWOOD', 'LITTLE BAY', 'BRONTE', 'EAST BALLINA', 'NARRABUNDAH',\n",
       "       'ECHUNGA', 'BATEMAN', 'SWAN VIEW', 'CALAMVALE'], dtype=object)"
      ]
     },
     "execution_count": 12,
     "metadata": {},
     "output_type": "execute_result"
    }
   ],
   "source": [
    "df[\"suburb\"].unique()"
   ]
  },
  {
   "cell_type": "markdown",
   "id": "6af0e33d",
   "metadata": {},
   "source": [
    "There is no whitespaces in `suburb`"
   ]
  },
  {
   "cell_type": "code",
   "execution_count": 13,
   "id": "dc0aad56",
   "metadata": {},
   "outputs": [
    {
     "data": {
      "text/plain": [
       "array(['NSW', 'WA', 'VIC', 'ACT', 'QLD', 'SA', 'NT', 'TAS'], dtype=object)"
      ]
     },
     "execution_count": 13,
     "metadata": {},
     "output_type": "execute_result"
    }
   ],
   "source": [
    "df['state'].unique()"
   ]
  },
  {
   "cell_type": "code",
   "execution_count": 14,
   "id": "f379f7be",
   "metadata": {},
   "outputs": [
    {
     "data": {
      "text/plain": [
       "address          0\n",
       "suburb           0\n",
       "state            0\n",
       "post_code        0\n",
       "price            2\n",
       "property_type    0\n",
       "bed              0\n",
       "bath             0\n",
       "parking          0\n",
       "dtype: int64"
      ]
     },
     "execution_count": 14,
     "metadata": {},
     "output_type": "execute_result"
    }
   ],
   "source": [
    "# Check for null values\n",
    "df.isnull().sum()"
   ]
  },
  {
   "cell_type": "code",
   "execution_count": 15,
   "id": "fcdb9ecc",
   "metadata": {},
   "outputs": [
    {
     "data": {
      "text/html": [
       "<div>\n",
       "<style scoped>\n",
       "    .dataframe tbody tr th:only-of-type {\n",
       "        vertical-align: middle;\n",
       "    }\n",
       "\n",
       "    .dataframe tbody tr th {\n",
       "        vertical-align: top;\n",
       "    }\n",
       "\n",
       "    .dataframe thead th {\n",
       "        text-align: right;\n",
       "    }\n",
       "</style>\n",
       "<table border=\"1\" class=\"dataframe\">\n",
       "  <thead>\n",
       "    <tr style=\"text-align: right;\">\n",
       "      <th></th>\n",
       "      <th>address</th>\n",
       "      <th>suburb</th>\n",
       "      <th>state</th>\n",
       "      <th>post_code</th>\n",
       "      <th>price</th>\n",
       "      <th>property_type</th>\n",
       "      <th>bed</th>\n",
       "      <th>bath</th>\n",
       "      <th>parking</th>\n",
       "    </tr>\n",
       "  </thead>\n",
       "  <tbody>\n",
       "    <tr>\n",
       "      <th>634</th>\n",
       "      <td>1/19 Henderson Road</td>\n",
       "      <td>QUEANBEYAN</td>\n",
       "      <td>NSW</td>\n",
       "      <td>2620</td>\n",
       "      <td>NaN</td>\n",
       "      <td>Townhouse</td>\n",
       "      <td>2</td>\n",
       "      <td>2</td>\n",
       "      <td>1</td>\n",
       "    </tr>\n",
       "    <tr>\n",
       "      <th>651</th>\n",
       "      <td>705/71 Macquarie Street</td>\n",
       "      <td>SYDNEY</td>\n",
       "      <td>NSW</td>\n",
       "      <td>2000</td>\n",
       "      <td>NaN</td>\n",
       "      <td>Apartment / Unit / Flat</td>\n",
       "      <td>1</td>\n",
       "      <td>1</td>\n",
       "      <td>1</td>\n",
       "    </tr>\n",
       "  </tbody>\n",
       "</table>\n",
       "</div>"
      ],
      "text/plain": [
       "                     address      suburb state  post_code  price  \\\n",
       "634      1/19 Henderson Road  QUEANBEYAN   NSW       2620    NaN   \n",
       "651  705/71 Macquarie Street      SYDNEY   NSW       2000    NaN   \n",
       "\n",
       "               property_type  bed  bath  parking  \n",
       "634                Townhouse    2     2        1  \n",
       "651  Apartment / Unit / Flat    1     1        1  "
      ]
     },
     "execution_count": 15,
     "metadata": {},
     "output_type": "execute_result"
    }
   ],
   "source": [
    "null_price = df.loc[df['price'].isna()]\n",
    "null_price"
   ]
  },
  {
   "cell_type": "code",
   "execution_count": 16,
   "id": "30a53b90-cbd4-49a6-8498-3f2003738ed8",
   "metadata": {},
   "outputs": [
    {
     "name": "stdout",
     "output_type": "stream",
     "text": [
      "1.0\n",
      "6000.0\n"
     ]
    }
   ],
   "source": [
    "# Explore the minimum and maximum price\n",
    "print(min(df[\"price\"]))\n",
    "print(max(df[\"price\"]))"
   ]
  },
  {
   "cell_type": "code",
   "execution_count": 17,
   "id": "71e3db16-537f-475f-ba19-dd11edab676a",
   "metadata": {
    "scrolled": true
   },
   "outputs": [
    {
     "data": {
      "image/png": "[encoded data removed]",
      "text/plain": [
       "<Figure size 800x600 with 1 Axes>"
      ]
     },
     "metadata": {},
     "output_type": "display_data"
    }
   ],
   "source": [
    "# Set figure size\n",
    "plt.figure(figsize=(8, 6))\n",
    "\n",
    "# Set style\n",
    "sns.set_style(\"whitegrid\")\n",
    "\n",
    "# Box plot\n",
    "sns.boxplot(x=df['price'], color=\"#fcc006\", linewidth=1, fliersize=4, flierprops=dict(marker='o', color='red', alpha=0.6))\n",
    "\n",
    "# Add title and labels\n",
    "plt.title(\"Distribution of Property Prices\", fontsize=14, fontweight='bold')\n",
    "plt.xlabel(\"Price ($)\", fontsize=12)\n",
    "\n",
    "# Improve visibility of axis\n",
    "plt.xticks(fontsize=10)\n",
    "plt.show()"
   ]
  },
  {
   "cell_type": "code",
   "execution_count": 18,
   "id": "e141080f-2c6b-4755-9ba4-f923b1f894db",
   "metadata": {
    "scrolled": true
   },
   "outputs": [
    {
     "data": {
      "text/html": [
       "<div>\n",
       "<style scoped>\n",
       "    .dataframe tbody tr th:only-of-type {\n",
       "        vertical-align: middle;\n",
       "    }\n",
       "\n",
       "    .dataframe tbody tr th {\n",
       "        vertical-align: top;\n",
       "    }\n",
       "\n",
       "    .dataframe thead th {\n",
       "        text-align: right;\n",
       "    }\n",
       "</style>\n",
       "<table border=\"1\" class=\"dataframe\">\n",
       "  <thead>\n",
       "    <tr style=\"text-align: right;\">\n",
       "      <th></th>\n",
       "      <th>address</th>\n",
       "      <th>suburb</th>\n",
       "      <th>state</th>\n",
       "      <th>post_code</th>\n",
       "      <th>price</th>\n",
       "      <th>property_type</th>\n",
       "      <th>bed</th>\n",
       "      <th>bath</th>\n",
       "      <th>parking</th>\n",
       "    </tr>\n",
       "  </thead>\n",
       "  <tbody>\n",
       "    <tr>\n",
       "      <th>72</th>\n",
       "      <td>20B Court Road</td>\n",
       "      <td>DOUBLE BAY</td>\n",
       "      <td>NSW</td>\n",
       "      <td>2028</td>\n",
       "      <td>3000.0</td>\n",
       "      <td>House</td>\n",
       "      <td>4</td>\n",
       "      <td>2</td>\n",
       "      <td>2</td>\n",
       "    </tr>\n",
       "    <tr>\n",
       "      <th>149</th>\n",
       "      <td>67 View Street</td>\n",
       "      <td>WOOLLAHRA</td>\n",
       "      <td>NSW</td>\n",
       "      <td>2025</td>\n",
       "      <td>3200.0</td>\n",
       "      <td>House</td>\n",
       "      <td>3</td>\n",
       "      <td>2</td>\n",
       "      <td>2</td>\n",
       "    </tr>\n",
       "    <tr>\n",
       "      <th>321</th>\n",
       "      <td>14 Myuna Road</td>\n",
       "      <td>DOVER HEIGHTS</td>\n",
       "      <td>NSW</td>\n",
       "      <td>2030</td>\n",
       "      <td>3250.0</td>\n",
       "      <td>House</td>\n",
       "      <td>4</td>\n",
       "      <td>3</td>\n",
       "      <td>3</td>\n",
       "    </tr>\n",
       "    <tr>\n",
       "      <th>547</th>\n",
       "      <td>74 Watson Street</td>\n",
       "      <td>BONDI</td>\n",
       "      <td>NSW</td>\n",
       "      <td>2026</td>\n",
       "      <td>4500.0</td>\n",
       "      <td>House</td>\n",
       "      <td>6</td>\n",
       "      <td>3</td>\n",
       "      <td>2</td>\n",
       "    </tr>\n",
       "    <tr>\n",
       "      <th>554</th>\n",
       "      <td>107 Hopetoun Avenue</td>\n",
       "      <td>VAUCLUSE</td>\n",
       "      <td>NSW</td>\n",
       "      <td>2030</td>\n",
       "      <td>3950.0</td>\n",
       "      <td>House</td>\n",
       "      <td>4</td>\n",
       "      <td>4</td>\n",
       "      <td>2</td>\n",
       "    </tr>\n",
       "    <tr>\n",
       "      <th>555</th>\n",
       "      <td>71 Onslow St</td>\n",
       "      <td>ROSE BAY</td>\n",
       "      <td>NSW</td>\n",
       "      <td>2029</td>\n",
       "      <td>3000.0</td>\n",
       "      <td>House</td>\n",
       "      <td>3</td>\n",
       "      <td>2</td>\n",
       "      <td>2</td>\n",
       "    </tr>\n",
       "    <tr>\n",
       "      <th>749</th>\n",
       "      <td>99 Clement Street</td>\n",
       "      <td>SWANBOURNE</td>\n",
       "      <td>WA</td>\n",
       "      <td>6010</td>\n",
       "      <td>3700.0</td>\n",
       "      <td>House</td>\n",
       "      <td>5</td>\n",
       "      <td>3</td>\n",
       "      <td>4</td>\n",
       "    </tr>\n",
       "    <tr>\n",
       "      <th>767</th>\n",
       "      <td>19 Parriwi Road</td>\n",
       "      <td>MOSMAN</td>\n",
       "      <td>NSW</td>\n",
       "      <td>2088</td>\n",
       "      <td>6000.0</td>\n",
       "      <td>House</td>\n",
       "      <td>5</td>\n",
       "      <td>5</td>\n",
       "      <td>2</td>\n",
       "    </tr>\n",
       "    <tr>\n",
       "      <th>842</th>\n",
       "      <td>145 Male Street</td>\n",
       "      <td>BRIGHTON</td>\n",
       "      <td>VIC</td>\n",
       "      <td>3186</td>\n",
       "      <td>3200.0</td>\n",
       "      <td>House</td>\n",
       "      <td>4</td>\n",
       "      <td>3</td>\n",
       "      <td>3</td>\n",
       "    </tr>\n",
       "  </tbody>\n",
       "</table>\n",
       "</div>"
      ],
      "text/plain": [
       "                 address         suburb state  post_code   price  \\\n",
       "72        20B Court Road     DOUBLE BAY   NSW       2028  3000.0   \n",
       "149       67 View Street      WOOLLAHRA   NSW       2025  3200.0   \n",
       "321        14 Myuna Road  DOVER HEIGHTS   NSW       2030  3250.0   \n",
       "547     74 Watson Street          BONDI   NSW       2026  4500.0   \n",
       "554  107 Hopetoun Avenue       VAUCLUSE   NSW       2030  3950.0   \n",
       "555         71 Onslow St       ROSE BAY   NSW       2029  3000.0   \n",
       "749    99 Clement Street     SWANBOURNE    WA       6010  3700.0   \n",
       "767      19 Parriwi Road         MOSMAN   NSW       2088  6000.0   \n",
       "842      145 Male Street       BRIGHTON   VIC       3186  3200.0   \n",
       "\n",
       "    property_type  bed  bath  parking  \n",
       "72          House    4     2        2  \n",
       "149         House    3     2        2  \n",
       "321         House    4     3        3  \n",
       "547         House    6     3        2  \n",
       "554         House    4     4        2  \n",
       "555         House    3     2        2  \n",
       "749         House    5     3        4  \n",
       "767         House    5     5        2  \n",
       "842         House    4     3        3  "
      ]
     },
     "execution_count": 18,
     "metadata": {},
     "output_type": "execute_result"
    }
   ],
   "source": [
    "high_rent = df[df[\"price\"] >= 3000]\n",
    "high_rent"
   ]
  },
  {
   "cell_type": "code",
   "execution_count": 19,
   "id": "c46e98e1-ee63-4ce5-9459-43c00fafeb91",
   "metadata": {},
   "outputs": [],
   "source": [
    "# Drop properties having rent of under 100\n",
    "df = df[(df[\"price\"] > 100) | (df[\"price\"].isna())]"
   ]
  },
  {
   "cell_type": "code",
   "execution_count": 20,
   "id": "7712425c-05ac-4049-afab-babaeb86a121",
   "metadata": {},
   "outputs": [],
   "source": [
    "df[\"price\"] = df[\"price\"].fillna(df[\"price\"].mean())"
   ]
  },
  {
   "cell_type": "code",
   "execution_count": 21,
   "id": "c3f62c39",
   "metadata": {},
   "outputs": [
    {
     "data": {
      "text/html": [
       "<div>\n",
       "<style scoped>\n",
       "    .dataframe tbody tr th:only-of-type {\n",
       "        vertical-align: middle;\n",
       "    }\n",
       "\n",
       "    .dataframe tbody tr th {\n",
       "        vertical-align: top;\n",
       "    }\n",
       "\n",
       "    .dataframe thead th {\n",
       "        text-align: right;\n",
       "    }\n",
       "</style>\n",
       "<table border=\"1\" class=\"dataframe\">\n",
       "  <thead>\n",
       "    <tr style=\"text-align: right;\">\n",
       "      <th></th>\n",
       "      <th>address</th>\n",
       "      <th>suburb</th>\n",
       "      <th>state</th>\n",
       "      <th>post_code</th>\n",
       "      <th>price</th>\n",
       "      <th>property_type</th>\n",
       "      <th>bed</th>\n",
       "      <th>bath</th>\n",
       "      <th>parking</th>\n",
       "    </tr>\n",
       "  </thead>\n",
       "  <tbody>\n",
       "    <tr>\n",
       "      <th>76</th>\n",
       "      <td>5/24 Eliza Street</td>\n",
       "      <td>CLAYFIELD</td>\n",
       "      <td>QLD</td>\n",
       "      <td>4011</td>\n",
       "      <td>600.0</td>\n",
       "      <td>Apartment / Unit / Flat</td>\n",
       "      <td>0</td>\n",
       "      <td>0</td>\n",
       "      <td>0</td>\n",
       "    </tr>\n",
       "    <tr>\n",
       "      <th>836</th>\n",
       "      <td>705/9 Union Street</td>\n",
       "      <td>NUNDAH</td>\n",
       "      <td>QLD</td>\n",
       "      <td>4012</td>\n",
       "      <td>520.0</td>\n",
       "      <td>Apartment / Unit / Flat</td>\n",
       "      <td>0</td>\n",
       "      <td>0</td>\n",
       "      <td>0</td>\n",
       "    </tr>\n",
       "  </tbody>\n",
       "</table>\n",
       "</div>"
      ],
      "text/plain": [
       "                address     suburb state  post_code  price  \\\n",
       "76    5/24 Eliza Street  CLAYFIELD   QLD       4011  600.0   \n",
       "836  705/9 Union Street     NUNDAH   QLD       4012  520.0   \n",
       "\n",
       "               property_type  bed  bath  parking  \n",
       "76   Apartment / Unit / Flat    0     0        0  \n",
       "836  Apartment / Unit / Flat    0     0        0  "
      ]
     },
     "execution_count": 21,
     "metadata": {},
     "output_type": "execute_result"
    }
   ],
   "source": [
    "# Check for rows having no bed, bath, and parking\n",
    "imcomplete_listing = df.loc[(df['bed'] == 0) & (df['bath'] == 0) & (df['parking'] == 0)]\n",
    "imcomplete_listing"
   ]
  },
  {
   "cell_type": "code",
   "execution_count": 22,
   "id": "667de659",
   "metadata": {},
   "outputs": [],
   "source": [
    "# Remove rows having no bed, bath, and parking\n",
    "df = df[~((df['bed'] == 0) & (df['bath'] == 0) & (df['parking'] == 0))]"
   ]
  },
  {
   "cell_type": "code",
   "execution_count": 23,
   "id": "088877e7-3fcc-4527-a478-8167bbee4424",
   "metadata": {},
   "outputs": [
    {
     "data": {
      "text/plain": [
       "(991, 9)"
      ]
     },
     "execution_count": 23,
     "metadata": {},
     "output_type": "execute_result"
    }
   ],
   "source": [
    "# Dataset dimension\n",
    "df.shape"
   ]
  },
  {
   "cell_type": "code",
   "execution_count": 24,
   "id": "63d8c2e7",
   "metadata": {
    "scrolled": true
   },
   "outputs": [
    {
     "data": {
      "text/html": [
       "<div>\n",
       "<style scoped>\n",
       "    .dataframe tbody tr th:only-of-type {\n",
       "        vertical-align: middle;\n",
       "    }\n",
       "\n",
       "    .dataframe tbody tr th {\n",
       "        vertical-align: top;\n",
       "    }\n",
       "\n",
       "    .dataframe thead th {\n",
       "        text-align: right;\n",
       "    }\n",
       "</style>\n",
       "<table border=\"1\" class=\"dataframe\">\n",
       "  <thead>\n",
       "    <tr style=\"text-align: right;\">\n",
       "      <th></th>\n",
       "      <th>post_code</th>\n",
       "      <th>price</th>\n",
       "      <th>bed</th>\n",
       "      <th>bath</th>\n",
       "      <th>parking</th>\n",
       "    </tr>\n",
       "  </thead>\n",
       "  <tbody>\n",
       "    <tr>\n",
       "      <th>count</th>\n",
       "      <td>991.000000</td>\n",
       "      <td>991.000000</td>\n",
       "      <td>991.000000</td>\n",
       "      <td>991.000000</td>\n",
       "      <td>991.000000</td>\n",
       "    </tr>\n",
       "    <tr>\n",
       "      <th>mean</th>\n",
       "      <td>2882.029263</td>\n",
       "      <td>833.138422</td>\n",
       "      <td>2.356206</td>\n",
       "      <td>1.517659</td>\n",
       "      <td>1.231080</td>\n",
       "    </tr>\n",
       "    <tr>\n",
       "      <th>std</th>\n",
       "      <td>1042.774092</td>\n",
       "      <td>463.823971</td>\n",
       "      <td>1.134073</td>\n",
       "      <td>0.649352</td>\n",
       "      <td>0.856398</td>\n",
       "    </tr>\n",
       "    <tr>\n",
       "      <th>min</th>\n",
       "      <td>800.000000</td>\n",
       "      <td>250.000000</td>\n",
       "      <td>0.000000</td>\n",
       "      <td>1.000000</td>\n",
       "      <td>0.000000</td>\n",
       "    </tr>\n",
       "    <tr>\n",
       "      <th>25%</th>\n",
       "      <td>2064.000000</td>\n",
       "      <td>580.000000</td>\n",
       "      <td>2.000000</td>\n",
       "      <td>1.000000</td>\n",
       "      <td>1.000000</td>\n",
       "    </tr>\n",
       "    <tr>\n",
       "      <th>50%</th>\n",
       "      <td>2611.000000</td>\n",
       "      <td>720.000000</td>\n",
       "      <td>2.000000</td>\n",
       "      <td>1.000000</td>\n",
       "      <td>1.000000</td>\n",
       "    </tr>\n",
       "    <tr>\n",
       "      <th>75%</th>\n",
       "      <td>3181.500000</td>\n",
       "      <td>900.000000</td>\n",
       "      <td>3.000000</td>\n",
       "      <td>2.000000</td>\n",
       "      <td>2.000000</td>\n",
       "    </tr>\n",
       "    <tr>\n",
       "      <th>max</th>\n",
       "      <td>7306.000000</td>\n",
       "      <td>6000.000000</td>\n",
       "      <td>7.000000</td>\n",
       "      <td>6.000000</td>\n",
       "      <td>7.000000</td>\n",
       "    </tr>\n",
       "  </tbody>\n",
       "</table>\n",
       "</div>"
      ],
      "text/plain": [
       "         post_code        price         bed        bath     parking\n",
       "count   991.000000   991.000000  991.000000  991.000000  991.000000\n",
       "mean   2882.029263   833.138422    2.356206    1.517659    1.231080\n",
       "std    1042.774092   463.823971    1.134073    0.649352    0.856398\n",
       "min     800.000000   250.000000    0.000000    1.000000    0.000000\n",
       "25%    2064.000000   580.000000    2.000000    1.000000    1.000000\n",
       "50%    2611.000000   720.000000    2.000000    1.000000    1.000000\n",
       "75%    3181.500000   900.000000    3.000000    2.000000    2.000000\n",
       "max    7306.000000  6000.000000    7.000000    6.000000    7.000000"
      ]
     },
     "execution_count": 24,
     "metadata": {},
     "output_type": "execute_result"
    }
   ],
   "source": [
    "# Overview of data\n",
    "df.describe()"
   ]
  },
  {
   "cell_type": "code",
   "execution_count": 27,
   "id": "498e301c-173c-4014-afdb-4ecaa869b67c",
   "metadata": {},
   "outputs": [],
   "source": [
    "df.to_csv('/Users/phuonganhpham/cleaned_property_data.csv', index=False)"
   ]
  }
 ],
 "metadata": {
  "kernelspec": {
   "display_name": "Python 3 (ipykernel)",
   "language": "python",
   "name": "python3"
  },
  "language_info": {
   "codemirror_mode": {
    "name": "ipython",
    "version": 3
   },
   "file_extension": ".py",
   "mimetype": "text/x-python",
   "name": "python",
   "nbconvert_exporter": "python",
   "pygments_lexer": "ipython3",
   "version": "3.11.5"
  }
 },
 "nbformat": 4,
 "nbformat_minor": 5
}
