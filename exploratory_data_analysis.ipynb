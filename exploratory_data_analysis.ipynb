{
 "cells": [
  {
   "cell_type": "code",
   "execution_count": 1,
   "id": "266621e7-cd07-437a-b099-828dc6c4a812",
   "metadata": {},
   "outputs": [],
   "source": [
    "import numpy as np\n",
    "import pandas as pd\n",
    "import matplotlib.pyplot as plt\n",
    "import seaborn as sns"
   ]
  },
  {
   "cell_type": "markdown",
   "id": "26630c4a-d8a6-42b9-9633-32c3ba3213f5",
   "metadata": {},
   "source": [
    "## Load dataset "
   ]
  },
  {
   "cell_type": "code",
   "execution_count": 2,
   "id": "2c233051-ee71-46c2-8485-44e7f4a7656f",
   "metadata": {
    "scrolled": true
   },
   "outputs": [
    {
     "ename": "FileNotFoundError",
     "evalue": "[Errno 2] No such file or directory: 'cleaned_property_data.csv'",
     "output_type": "error",
     "traceback": [
      "\u001b[0;31m---------------------------------------------------------------------------\u001b[0m",
      "\u001b[0;31mFileNotFoundError\u001b[0m                         Traceback (most recent call last)",
      "Cell \u001b[0;32mIn[2], line 1\u001b[0m\n\u001b[0;32m----> 1\u001b[0m df \u001b[38;5;241m=\u001b[39m pd\u001b[38;5;241m.\u001b[39mread_csv(\u001b[38;5;124m'\u001b[39m\u001b[38;5;124mcleaned_property_data.csv\u001b[39m\u001b[38;5;124m'\u001b[39m)\n\u001b[1;32m      2\u001b[0m df\u001b[38;5;241m.\u001b[39mhead()\n",
      "File \u001b[0;32m~/anaconda3/lib/python3.11/site-packages/pandas/io/parsers/readers.py:1026\u001b[0m, in \u001b[0;36mread_csv\u001b[0;34m(filepath_or_buffer, sep, delimiter, header, names, index_col, usecols, dtype, engine, converters, true_values, false_values, skipinitialspace, skiprows, skipfooter, nrows, na_values, keep_default_na, na_filter, verbose, skip_blank_lines, parse_dates, infer_datetime_format, keep_date_col, date_parser, date_format, dayfirst, cache_dates, iterator, chunksize, compression, thousands, decimal, lineterminator, quotechar, quoting, doublequote, escapechar, comment, encoding, encoding_errors, dialect, on_bad_lines, delim_whitespace, low_memory, memory_map, float_precision, storage_options, dtype_backend)\u001b[0m\n\u001b[1;32m   1013\u001b[0m kwds_defaults \u001b[38;5;241m=\u001b[39m _refine_defaults_read(\n\u001b[1;32m   1014\u001b[0m     dialect,\n\u001b[1;32m   1015\u001b[0m     delimiter,\n\u001b[0;32m   (...)\u001b[0m\n\u001b[1;32m   1022\u001b[0m     dtype_backend\u001b[38;5;241m=\u001b[39mdtype_backend,\n\u001b[1;32m   1023\u001b[0m )\n\u001b[1;32m   1024\u001b[0m kwds\u001b[38;5;241m.\u001b[39mupdate(kwds_defaults)\n\u001b[0;32m-> 1026\u001b[0m \u001b[38;5;28;01mreturn\u001b[39;00m _read(filepath_or_buffer, kwds)\n",
      "File \u001b[0;32m~/anaconda3/lib/python3.11/site-packages/pandas/io/parsers/readers.py:620\u001b[0m, in \u001b[0;36m_read\u001b[0;34m(filepath_or_buffer, kwds)\u001b[0m\n\u001b[1;32m    617\u001b[0m _validate_names(kwds\u001b[38;5;241m.\u001b[39mget(\u001b[38;5;124m\"\u001b[39m\u001b[38;5;124mnames\u001b[39m\u001b[38;5;124m\"\u001b[39m, \u001b[38;5;28;01mNone\u001b[39;00m))\n\u001b[1;32m    619\u001b[0m \u001b[38;5;66;03m# Create the parser.\u001b[39;00m\n\u001b[0;32m--> 620\u001b[0m parser \u001b[38;5;241m=\u001b[39m TextFileReader(filepath_or_buffer, \u001b[38;5;241m*\u001b[39m\u001b[38;5;241m*\u001b[39mkwds)\n\u001b[1;32m    622\u001b[0m \u001b[38;5;28;01mif\u001b[39;00m chunksize \u001b[38;5;129;01mor\u001b[39;00m iterator:\n\u001b[1;32m    623\u001b[0m     \u001b[38;5;28;01mreturn\u001b[39;00m parser\n",
      "File \u001b[0;32m~/anaconda3/lib/python3.11/site-packages/pandas/io/parsers/readers.py:1620\u001b[0m, in \u001b[0;36mTextFileReader.__init__\u001b[0;34m(self, f, engine, **kwds)\u001b[0m\n\u001b[1;32m   1617\u001b[0m     \u001b[38;5;28mself\u001b[39m\u001b[38;5;241m.\u001b[39moptions[\u001b[38;5;124m\"\u001b[39m\u001b[38;5;124mhas_index_names\u001b[39m\u001b[38;5;124m\"\u001b[39m] \u001b[38;5;241m=\u001b[39m kwds[\u001b[38;5;124m\"\u001b[39m\u001b[38;5;124mhas_index_names\u001b[39m\u001b[38;5;124m\"\u001b[39m]\n\u001b[1;32m   1619\u001b[0m \u001b[38;5;28mself\u001b[39m\u001b[38;5;241m.\u001b[39mhandles: IOHandles \u001b[38;5;241m|\u001b[39m \u001b[38;5;28;01mNone\u001b[39;00m \u001b[38;5;241m=\u001b[39m \u001b[38;5;28;01mNone\u001b[39;00m\n\u001b[0;32m-> 1620\u001b[0m \u001b[38;5;28mself\u001b[39m\u001b[38;5;241m.\u001b[39m_engine \u001b[38;5;241m=\u001b[39m \u001b[38;5;28mself\u001b[39m\u001b[38;5;241m.\u001b[39m_make_engine(f, \u001b[38;5;28mself\u001b[39m\u001b[38;5;241m.\u001b[39mengine)\n",
      "File \u001b[0;32m~/anaconda3/lib/python3.11/site-packages/pandas/io/parsers/readers.py:1880\u001b[0m, in \u001b[0;36mTextFileReader._make_engine\u001b[0;34m(self, f, engine)\u001b[0m\n\u001b[1;32m   1878\u001b[0m     \u001b[38;5;28;01mif\u001b[39;00m \u001b[38;5;124m\"\u001b[39m\u001b[38;5;124mb\u001b[39m\u001b[38;5;124m\"\u001b[39m \u001b[38;5;129;01mnot\u001b[39;00m \u001b[38;5;129;01min\u001b[39;00m mode:\n\u001b[1;32m   1879\u001b[0m         mode \u001b[38;5;241m+\u001b[39m\u001b[38;5;241m=\u001b[39m \u001b[38;5;124m\"\u001b[39m\u001b[38;5;124mb\u001b[39m\u001b[38;5;124m\"\u001b[39m\n\u001b[0;32m-> 1880\u001b[0m \u001b[38;5;28mself\u001b[39m\u001b[38;5;241m.\u001b[39mhandles \u001b[38;5;241m=\u001b[39m get_handle(\n\u001b[1;32m   1881\u001b[0m     f,\n\u001b[1;32m   1882\u001b[0m     mode,\n\u001b[1;32m   1883\u001b[0m     encoding\u001b[38;5;241m=\u001b[39m\u001b[38;5;28mself\u001b[39m\u001b[38;5;241m.\u001b[39moptions\u001b[38;5;241m.\u001b[39mget(\u001b[38;5;124m\"\u001b[39m\u001b[38;5;124mencoding\u001b[39m\u001b[38;5;124m\"\u001b[39m, \u001b[38;5;28;01mNone\u001b[39;00m),\n\u001b[1;32m   1884\u001b[0m     compression\u001b[38;5;241m=\u001b[39m\u001b[38;5;28mself\u001b[39m\u001b[38;5;241m.\u001b[39moptions\u001b[38;5;241m.\u001b[39mget(\u001b[38;5;124m\"\u001b[39m\u001b[38;5;124mcompression\u001b[39m\u001b[38;5;124m\"\u001b[39m, \u001b[38;5;28;01mNone\u001b[39;00m),\n\u001b[1;32m   1885\u001b[0m     memory_map\u001b[38;5;241m=\u001b[39m\u001b[38;5;28mself\u001b[39m\u001b[38;5;241m.\u001b[39moptions\u001b[38;5;241m.\u001b[39mget(\u001b[38;5;124m\"\u001b[39m\u001b[38;5;124mmemory_map\u001b[39m\u001b[38;5;124m\"\u001b[39m, \u001b[38;5;28;01mFalse\u001b[39;00m),\n\u001b[1;32m   1886\u001b[0m     is_text\u001b[38;5;241m=\u001b[39mis_text,\n\u001b[1;32m   1887\u001b[0m     errors\u001b[38;5;241m=\u001b[39m\u001b[38;5;28mself\u001b[39m\u001b[38;5;241m.\u001b[39moptions\u001b[38;5;241m.\u001b[39mget(\u001b[38;5;124m\"\u001b[39m\u001b[38;5;124mencoding_errors\u001b[39m\u001b[38;5;124m\"\u001b[39m, \u001b[38;5;124m\"\u001b[39m\u001b[38;5;124mstrict\u001b[39m\u001b[38;5;124m\"\u001b[39m),\n\u001b[1;32m   1888\u001b[0m     storage_options\u001b[38;5;241m=\u001b[39m\u001b[38;5;28mself\u001b[39m\u001b[38;5;241m.\u001b[39moptions\u001b[38;5;241m.\u001b[39mget(\u001b[38;5;124m\"\u001b[39m\u001b[38;5;124mstorage_options\u001b[39m\u001b[38;5;124m\"\u001b[39m, \u001b[38;5;28;01mNone\u001b[39;00m),\n\u001b[1;32m   1889\u001b[0m )\n\u001b[1;32m   1890\u001b[0m \u001b[38;5;28;01massert\u001b[39;00m \u001b[38;5;28mself\u001b[39m\u001b[38;5;241m.\u001b[39mhandles \u001b[38;5;129;01mis\u001b[39;00m \u001b[38;5;129;01mnot\u001b[39;00m \u001b[38;5;28;01mNone\u001b[39;00m\n\u001b[1;32m   1891\u001b[0m f \u001b[38;5;241m=\u001b[39m \u001b[38;5;28mself\u001b[39m\u001b[38;5;241m.\u001b[39mhandles\u001b[38;5;241m.\u001b[39mhandle\n",
      "File \u001b[0;32m~/anaconda3/lib/python3.11/site-packages/pandas/io/common.py:873\u001b[0m, in \u001b[0;36mget_handle\u001b[0;34m(path_or_buf, mode, encoding, compression, memory_map, is_text, errors, storage_options)\u001b[0m\n\u001b[1;32m    868\u001b[0m \u001b[38;5;28;01melif\u001b[39;00m \u001b[38;5;28misinstance\u001b[39m(handle, \u001b[38;5;28mstr\u001b[39m):\n\u001b[1;32m    869\u001b[0m     \u001b[38;5;66;03m# Check whether the filename is to be opened in binary mode.\u001b[39;00m\n\u001b[1;32m    870\u001b[0m     \u001b[38;5;66;03m# Binary mode does not support 'encoding' and 'newline'.\u001b[39;00m\n\u001b[1;32m    871\u001b[0m     \u001b[38;5;28;01mif\u001b[39;00m ioargs\u001b[38;5;241m.\u001b[39mencoding \u001b[38;5;129;01mand\u001b[39;00m \u001b[38;5;124m\"\u001b[39m\u001b[38;5;124mb\u001b[39m\u001b[38;5;124m\"\u001b[39m \u001b[38;5;129;01mnot\u001b[39;00m \u001b[38;5;129;01min\u001b[39;00m ioargs\u001b[38;5;241m.\u001b[39mmode:\n\u001b[1;32m    872\u001b[0m         \u001b[38;5;66;03m# Encoding\u001b[39;00m\n\u001b[0;32m--> 873\u001b[0m         handle \u001b[38;5;241m=\u001b[39m \u001b[38;5;28mopen\u001b[39m(\n\u001b[1;32m    874\u001b[0m             handle,\n\u001b[1;32m    875\u001b[0m             ioargs\u001b[38;5;241m.\u001b[39mmode,\n\u001b[1;32m    876\u001b[0m             encoding\u001b[38;5;241m=\u001b[39mioargs\u001b[38;5;241m.\u001b[39mencoding,\n\u001b[1;32m    877\u001b[0m             errors\u001b[38;5;241m=\u001b[39merrors,\n\u001b[1;32m    878\u001b[0m             newline\u001b[38;5;241m=\u001b[39m\u001b[38;5;124m\"\u001b[39m\u001b[38;5;124m\"\u001b[39m,\n\u001b[1;32m    879\u001b[0m         )\n\u001b[1;32m    880\u001b[0m     \u001b[38;5;28;01melse\u001b[39;00m:\n\u001b[1;32m    881\u001b[0m         \u001b[38;5;66;03m# Binary mode\u001b[39;00m\n\u001b[1;32m    882\u001b[0m         handle \u001b[38;5;241m=\u001b[39m \u001b[38;5;28mopen\u001b[39m(handle, ioargs\u001b[38;5;241m.\u001b[39mmode)\n",
      "\u001b[0;31mFileNotFoundError\u001b[0m: [Errno 2] No such file or directory: 'cleaned_property_data.csv'"
     ]
    }
   ],
   "source": [
    "df = pd.read_csv('cleaned_property_data.csv')\n",
    "df.head()"
   ]
  },
  {
   "cell_type": "markdown",
   "id": "d75718aa-dcd5-4345-839f-7f9a5f7e13f1",
   "metadata": {},
   "source": [
    "## Explore the dataset"
   ]
  },
  {
   "cell_type": "code",
   "execution_count": null,
   "id": "06fe61d6-fcec-4347-b535-67a597c4e4ef",
   "metadata": {},
   "outputs": [],
   "source": [
    "# Check dimension\n",
    "df.shape"
   ]
  },
  {
   "cell_type": "code",
   "execution_count": null,
   "id": "c4bee69e-bed3-484a-85fd-53ba431e9c69",
   "metadata": {},
   "outputs": [],
   "source": [
    "# Check info\n",
    "df.info()"
   ]
  },
  {
   "cell_type": "markdown",
   "id": "08a4062f-2f31-43f3-8a47-9fa905225aef",
   "metadata": {},
   "source": [
    "## EDA"
   ]
  },
  {
   "cell_type": "markdown",
   "id": "f93bef33-ab83-4acb-b181-1d98035bb01f",
   "metadata": {},
   "source": [
    "### Distribution of rent by State"
   ]
  },
  {
   "cell_type": "markdown",
   "id": "3a671426-18b7-456a-9c21-d891ad89b8fe",
   "metadata": {},
   "source": [
    "**1. What does this visualisation reveal?**\n",
    "- Price distribution\n",
    "- Price trends\n",
    "- Outliers\n",
    "<br>\n",
    "\n",
    "**2. Why this type of visualisation was selected?**\n",
    "\n",
    "A scatter plot with a regression line is chosen because it effectively visualizes the relationship between the index and the price of properties across different states by presenting the trends, clustering by state, and outliers.\n",
    "<br>\n",
    "\n",
    "**3. How insights from the graph are useful for real estate stakeholders?**\n",
    "- **Landlords** can see how their properties are priced relative to others in their state, helping with competitive pricing decisions.\n",
    "- **Real estate agencies** can use the visualization to explore market trends to provide effective pricing strategies to tenants.\n",
    "- **Tenants** can understand how prices vary across states and have a knowledge of which suburbs they should live in based on their budgets, also avoid overpriced listings by identifying outliers."
   ]
  },
  {
   "cell_type": "code",
   "execution_count": null,
   "id": "e3921600-b050-4bee-9fed-999c6c36af2c",
   "metadata": {
    "scrolled": true
   },
   "outputs": [],
   "source": [
    "# Reset the index for proper plotting\n",
    "data = df.reset_index()\n",
    "\n",
    "# Scatter plot with regression line\n",
    "sns.lmplot(\n",
    "    x='index', \n",
    "    y='price', \n",
    "    hue='state', \n",
    "    data=data, \n",
    "    palette='viridis_r', \n",
    "    height=6, \n",
    "    aspect=1.2, \n",
    "    scatter_kws={'alpha': 0.6}, \n",
    "    line_kws={'linewidth': 2}) \n",
    "\n",
    "# Add title\n",
    "plt.title('Distribution of rent by State', fontsize=12, weight='bold')\n",
    "\n",
    "# Add labels\n",
    "plt.xlabel('Index')\n",
    "plt.ylabel('Price')\n",
    "plt.show()"
   ]
  },
  {
   "cell_type": "markdown",
   "id": "8bab2e54-469c-4753-a525-3a82a84e2813",
   "metadata": {},
   "source": [
    "### Distribution of properties across States"
   ]
  },
  {
   "cell_type": "markdown",
   "id": "7ce8b01e-f2a2-4abc-8e82-781bdbc835f4",
   "metadata": {},
   "source": [
    "**1. What does this visualisation reveal?**\n",
    "- The number of properties listed across states of Australia.\n",
    "- Any discrepancies between property counts in different states.\n",
    "\n",
    "**2. Why this type of visualisation was selected?** Barplot is ideal when visualizing the distribution of property counts by states because:\n",
    "- This type of chart can clearly show the number of properties in each state, making it easy to identify which states have more or fewer listings.\n",
    "- Sorting the data from highest to lowest provides immediate insight into which state has the most listings in domain website.\n",
    "- The number of listings are displayed on top of each bar which allows stakeholders to quickly see the exact count without needing to interpret the graph."
   ]
  },
  {
   "cell_type": "code",
   "execution_count": null,
   "id": "947afa8f-db81-4912-bb34-29b782f862f2",
   "metadata": {},
   "outputs": [],
   "source": [
    "# Set figure size\n",
    "plt.figure(figsize=(8,6))\n",
    "\n",
    "# Count the number of properties by state\n",
    "count = df['state'].value_counts().sort_values(ascending=False)\n",
    "\n",
    "# Visualize\n",
    "sns.barplot(x=count.index, y=count.values, palette='viridis_r')\n",
    "\n",
    "# Add title\n",
    "plt.title('Distribution of properties across States', fontsize=14, weight='bold')\n",
    "\n",
    "# Add labels\n",
    "plt.xlabel('State')\n",
    "plt.ylabel('Count')\n",
    "\n",
    "# Display values\n",
    "y = count.values\n",
    "for i, value in enumerate(y):\n",
    "    plt.text(i, value + 0.5, str(value), ha='center', va='bottom', fontsize=10)\n",
    "\n",
    "plt.show()"
   ]
  },
  {
   "cell_type": "markdown",
   "id": "1ac6e851-cf2f-48fc-bcab-1a0b191ce19f",
   "metadata": {},
   "source": [
    "### Distribution of rent by Property type"
   ]
  },
  {
   "cell_type": "markdown",
   "id": "93111595-f103-4170-a1a2-8e856b092ee3",
   "metadata": {},
   "source": [
    "**1. What does this visualisation reveal?**\n",
    "- Price range by property type\n",
    "- Difference among the *Median rent* of property types\n",
    "- Outliers\n",
    "<br>\n",
    "\n",
    "**2. Why this type of visualisation was selected?** Boxplot is a great choice because it can effectively visualizes the distribution of rent across different property types, providing information about *Median*, *IQR*, and *Outliers*\n",
    "<br>\n",
    "\n",
    "**3. How insights from the graph are useful for real estate stakeholders?**\n",
    "- **Landlords** can better set rental prices for their properties using insights of price range and median price\n",
    "- **Real estate agencies** can use insights from this visualization to explore the rental market.\n",
    "- **Tenants** can use this information to understand which property types are more affordable, and make decisions whether to rent or not."
   ]
  },
  {
   "cell_type": "code",
   "execution_count": null,
   "id": "c06b4112-09d3-4a8a-bd50-4e9f6e02b432",
   "metadata": {},
   "outputs": [],
   "source": [
    "# Set figure size\n",
    "plt.figure(figsize=(8, 6))\n",
    "\n",
    "# Boxplot\n",
    "sns.boxplot(x='property_type', y='price', data=df, palette='tab20b')\n",
    "\n",
    "# Add title\n",
    "plt.title('Distribution of rent by Property type', fontsize=14, weight='bold')\n",
    "\n",
    "# Add labels\n",
    "plt.xlabel('Property type', fontsize=12)\n",
    "plt.ylabel('Price', fontsize=12)\n",
    "\n",
    "# Rotate xticks\n",
    "plt.xticks(rotation=45)\n",
    "plt.show()"
   ]
  },
  {
   "cell_type": "markdown",
   "id": "b87490ee-1fa6-4bcc-8ffd-47c5bd3cc60e",
   "metadata": {},
   "source": [
    "### Distribution of rent by Number of Bedrooms"
   ]
  },
  {
   "cell_type": "markdown",
   "id": "403adc30-1a03-44f1-9cfb-239dfda3d563",
   "metadata": {},
   "source": [
    "**1. What does this visualisation reveal?**\n",
    "- Price trend by number of bedrooms\n",
    "- Median price per category\n",
    "- Outliers\n",
    "  \n",
    "**2. Why this type of visualisation was selected?**\n",
    "Boxplot is a great choice because it can effectively visualize the distribution of rent across properties with different number of bedrooms, providing information about Median, IQR, and Outliers.\n",
    "\n",
    "**3. How insights from the graph are useful for real estate stakeholders?**\n",
    "Similar to the previous boxplot, it is beneficial for the stakeholders, including landlords, tenants, and agencies."
   ]
  },
  {
   "cell_type": "code",
   "execution_count": null,
   "id": "89c46174-5bf4-4ca0-9e3b-9a29b39ad6c1",
   "metadata": {},
   "outputs": [],
   "source": [
    "# Set figure size\n",
    "plt.figure(figsize=(8, 6))\n",
    "\n",
    "# Boxplot\n",
    "sns.boxplot(x='bed', y='price', data=df, palette='viridis')\n",
    "\n",
    "# Add title\n",
    "plt.title('Distribution of rent by Number of Bedrooms', fontsize=14, weight='bold')\n",
    "\n",
    "# Add labels\n",
    "plt.xlabel('Number of Bedrooms', fontsize=12)\n",
    "plt.ylabel('Price', fontsize=12)\n",
    "plt.show()"
   ]
  },
  {
   "cell_type": "markdown",
   "id": "eb3bba58-1a17-4e73-b071-cf63503f740e",
   "metadata": {},
   "source": [
    "### Average rent by State and Property type"
   ]
  },
  {
   "cell_type": "markdown",
   "id": "04010234-6f04-41a6-8875-2fc57c5abd00",
   "metadata": {},
   "source": [
    "**1. What does this visualisation reveal?** Median rent disparities across states and property types\n",
    "\n",
    "**2. Why this type of visualisation was selected?**\n",
    "A heatmap is ideal because it effectively shows the relationship between two categorical variables **(state and property type)** and their impact on rental prices. Color intensity makes it easy to spot high or low-rent areas at a glance.\n",
    "\n",
    "**3. How insights from the graph are useful for real estate stakeholders?**\n",
    "- **Landlords** can adjust pricing in high-demand areas to stay competitive or increase profits.\n",
    "- **Real estate agencies** can use insights from this heatmap to compare rental prices across regions and provide recommendations for each states separately.\n",
    "- **Tenants** can easily identify which states and property types fit their budget and make relocation decision if necessary."
   ]
  },
  {
   "cell_type": "code",
   "execution_count": null,
   "id": "47fdd42f-c907-47da-a9f1-0d47e6998c4d",
   "metadata": {},
   "outputs": [],
   "source": [
    "# Set the figure size\n",
    "plt.figure(figsize=(14, 8))\n",
    "\n",
    "# Pivot data \n",
    "pivot_data = df.pivot_table(index='state', columns='property_type', values='price', aggfunc='mean')\n",
    "\n",
    "# Heatmap\n",
    "sns.heatmap(pivot_data, annot=True, cmap='Greens', fmt='.0f', linewidths=0.5)\n",
    "\n",
    "# Add title\n",
    "plt.title('Average rent by State and Property type', fontsize=14, weight='bold')\n",
    "\n",
    "# Add labels\n",
    "plt.xlabel('Property type', fontsize=12)\n",
    "plt.ylabel('Price', fontsize=12)\n",
    "\n",
    "# Rotate xticks\n",
    "plt.xticks(rotation=45)\n",
    "plt.show()"
   ]
  }
 ],
 "metadata": {
  "kernelspec": {
   "display_name": "Python 3 (ipykernel)",
   "language": "python",
   "name": "python3"
  },
  "language_info": {
   "codemirror_mode": {
    "name": "ipython",
    "version": 3
   },
   "file_extension": ".py",
   "mimetype": "text/x-python",
   "name": "python",
   "nbconvert_exporter": "python",
   "pygments_lexer": "ipython3",
   "version": "3.11.5"
  }
 },
 "nbformat": 4,
 "nbformat_minor": 5
}
