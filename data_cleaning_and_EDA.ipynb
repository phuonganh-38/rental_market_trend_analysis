{
 "cells": [
  {
   "cell_type": "code",
   "execution_count": 1,
   "id": "c26e146b",
   "metadata": {},
   "outputs": [],
   "source": [
    "import numpy as np\n",
    "import pandas as pd"
   ]
  },
  {
   "cell_type": "code",
   "execution_count": 2,
   "id": "b1bca757",
   "metadata": {
    "scrolled": false
   },
   "outputs": [
    {
     "data": {
      "text/html": [
       "<div>\n",
       "<style scoped>\n",
       "    .dataframe tbody tr th:only-of-type {\n",
       "        vertical-align: middle;\n",
       "    }\n",
       "\n",
       "    .dataframe tbody tr th {\n",
       "        vertical-align: top;\n",
       "    }\n",
       "\n",
       "    .dataframe thead th {\n",
       "        text-align: right;\n",
       "    }\n",
       "</style>\n",
       "<table border=\"1\" class=\"dataframe\">\n",
       "  <thead>\n",
       "    <tr style=\"text-align: right;\">\n",
       "      <th></th>\n",
       "      <th>Address</th>\n",
       "      <th>Suburb</th>\n",
       "      <th>State</th>\n",
       "      <th>Post code</th>\n",
       "      <th>Price</th>\n",
       "      <th>Property type</th>\n",
       "      <th>Bed</th>\n",
       "      <th>Bath</th>\n",
       "      <th>Parking</th>\n",
       "    </tr>\n",
       "  </thead>\n",
       "  <tbody>\n",
       "    <tr>\n",
       "      <th>0</th>\n",
       "      <td>3/9 Lambert Street,</td>\n",
       "      <td>CAMMERAY</td>\n",
       "      <td>NSW</td>\n",
       "      <td>2062</td>\n",
       "      <td>$690</td>\n",
       "      <td>Apartment / Unit / Flat</td>\n",
       "      <td>2 Beds</td>\n",
       "      <td>1 Bath</td>\n",
       "      <td>−</td>\n",
       "    </tr>\n",
       "    <tr>\n",
       "      <th>1</th>\n",
       "      <td>18 Chatham Way,</td>\n",
       "      <td>HARRISDALE</td>\n",
       "      <td>WA</td>\n",
       "      <td>6112</td>\n",
       "      <td>$820 / PER WEEK</td>\n",
       "      <td>House</td>\n",
       "      <td>4 Beds</td>\n",
       "      <td>2 Baths</td>\n",
       "      <td>2 Parking</td>\n",
       "    </tr>\n",
       "    <tr>\n",
       "      <th>2</th>\n",
       "      <td>102/157-163 Burwood Road,</td>\n",
       "      <td>HAWTHORN</td>\n",
       "      <td>VIC</td>\n",
       "      <td>3122</td>\n",
       "      <td>$580.00 per week</td>\n",
       "      <td>Apartment / Unit / Flat</td>\n",
       "      <td>2 Beds</td>\n",
       "      <td>1 Bath</td>\n",
       "      <td>1 Parking</td>\n",
       "    </tr>\n",
       "    <tr>\n",
       "      <th>3</th>\n",
       "      <td>77 Unnaro St,</td>\n",
       "      <td>COOLOONGUP</td>\n",
       "      <td>WA</td>\n",
       "      <td>6168</td>\n",
       "      <td>$570 Per Week</td>\n",
       "      <td>House</td>\n",
       "      <td>3 Beds</td>\n",
       "      <td>2 Baths</td>\n",
       "      <td>3 Parking</td>\n",
       "    </tr>\n",
       "    <tr>\n",
       "      <th>4</th>\n",
       "      <td>7/77 Milson Road,</td>\n",
       "      <td>CREMORNE POINT</td>\n",
       "      <td>NSW</td>\n",
       "      <td>2090</td>\n",
       "      <td>$850.00 pw</td>\n",
       "      <td>Apartment / Unit / Flat</td>\n",
       "      <td>2 Beds</td>\n",
       "      <td>1 Bath</td>\n",
       "      <td>−</td>\n",
       "    </tr>\n",
       "  </tbody>\n",
       "</table>\n",
       "</div>"
      ],
      "text/plain": [
       "                      Address          Suburb State  Post code  \\\n",
       "0        3/9 Lambert Street,         CAMMERAY   NSW       2062   \n",
       "1            18 Chatham Way,       HARRISDALE    WA       6112   \n",
       "2  102/157-163 Burwood Road,         HAWTHORN   VIC       3122   \n",
       "3              77 Unnaro St,       COOLOONGUP    WA       6168   \n",
       "4          7/77 Milson Road,   CREMORNE POINT   NSW       2090   \n",
       "\n",
       "              Price            Property type     Bed     Bath    Parking  \n",
       "0              $690  Apartment / Unit / Flat  2 Beds   1 Bath          −  \n",
       "1   $820 / PER WEEK                    House  4 Beds  2 Baths  2 Parking  \n",
       "2  $580.00 per week  Apartment / Unit / Flat  2 Beds   1 Bath  1 Parking  \n",
       "3     $570 Per Week                    House  3 Beds  2 Baths  3 Parking  \n",
       "4        $850.00 pw  Apartment / Unit / Flat  2 Beds   1 Bath          −  "
      ]
     },
     "execution_count": 2,
     "metadata": {},
     "output_type": "execute_result"
    }
   ],
   "source": [
    "# Loading data\n",
    "df = pd.read_csv('properties.csv')\n",
    "df.head()"
   ]
  },
  {
   "cell_type": "markdown",
   "id": "0efb0399",
   "metadata": {},
   "source": [
    "### Explore the dataset"
   ]
  },
  {
   "cell_type": "code",
   "execution_count": 3,
   "id": "7a5a2850",
   "metadata": {
    "scrolled": true
   },
   "outputs": [
    {
     "data": {
      "text/plain": [
       "(996, 9)"
      ]
     },
     "execution_count": 3,
     "metadata": {},
     "output_type": "execute_result"
    }
   ],
   "source": [
    "# Check for dimension\n",
    "df.shape"
   ]
  },
  {
   "cell_type": "code",
   "execution_count": 4,
   "id": "9b6bfc0f",
   "metadata": {
    "scrolled": true
   },
   "outputs": [
    {
     "name": "stdout",
     "output_type": "stream",
     "text": [
      "<class 'pandas.core.frame.DataFrame'>\n",
      "RangeIndex: 996 entries, 0 to 995\n",
      "Data columns (total 9 columns):\n",
      " #   Column         Non-Null Count  Dtype \n",
      "---  ------         --------------  ----- \n",
      " 0   Address        996 non-null    object\n",
      " 1   Suburb         996 non-null    object\n",
      " 2   State          996 non-null    object\n",
      " 3   Post code      996 non-null    int64 \n",
      " 4   Price          996 non-null    object\n",
      " 5   Property type  996 non-null    object\n",
      " 6   Bed            996 non-null    object\n",
      " 7   Bath           996 non-null    object\n",
      " 8   Parking        996 non-null    object\n",
      "dtypes: int64(1), object(8)\n",
      "memory usage: 70.2+ KB\n"
     ]
    }
   ],
   "source": [
    "# Check info\n",
    "df.info()"
   ]
  },
  {
   "cell_type": "markdown",
   "id": "cfca1b5a",
   "metadata": {},
   "source": [
    "### Data cleaning"
   ]
  },
  {
   "cell_type": "code",
   "execution_count": 5,
   "id": "300876ff",
   "metadata": {
    "scrolled": true
   },
   "outputs": [],
   "source": [
    "# Remove comma and any whitespace at the end of column \"Address\"\n",
    "df['Address'] = df['Address'].str.rstrip(', ')"
   ]
  },
  {
   "cell_type": "code",
   "execution_count": 6,
   "id": "8f9ee73c",
   "metadata": {
    "scrolled": true
   },
   "outputs": [
    {
     "name": "stdout",
     "output_type": "stream",
     "text": [
      "Number of unique suburbs: 475\n"
     ]
    }
   ],
   "source": [
    "unique_suburb = df[\"Suburb\"].nunique()\n",
    "print(f\"Number of unique suburbs: {unique_suburb}\")"
   ]
  },
  {
   "cell_type": "code",
   "execution_count": 7,
   "id": "1f20c83d",
   "metadata": {},
   "outputs": [
    {
     "data": {
      "text/plain": [
       "array(['CAMMERAY', 'HARRISDALE', 'HAWTHORN', 'COOLOONGUP',\n",
       "       'CREMORNE POINT', 'EARLWOOD', 'ST KILDA', 'MERRYLANDS', 'CAMILLO',\n",
       "       'ROSEVILLE', 'GORDON', 'ULTIMO', 'ZETLAND', 'BANKSTOWN',\n",
       "       'CAMPBELL', 'REDLYNCH', 'MOOROOBOOL', 'GREENSBOROUGH',\n",
       "       'HELENSVALE', 'REDFERN', 'BRUNSWICK', 'EDGECLIFF', 'MAROUBRA',\n",
       "       'SOUTH YARRA', 'NORTH MELBOURNE', 'TUART HILL', 'NORTH SYDNEY',\n",
       "       'GREENWAY', 'KENSINGTON', 'SOUTHBANK', 'ASHFIELD', 'KINGSLEY',\n",
       "       'MALVERN EAST', 'DUBBO', 'WOOLLAHRA', 'PORT MELBOURNE',\n",
       "       'DARLINGHURST', 'KINGSTON', 'GUNGAHLIN', 'GRIFFIN', 'APPLECROSS',\n",
       "       'COMO', 'ELWOOD', 'STRATHFIELD', 'ANNANDALE', 'MIDDLETON',\n",
       "       'DARWIN CITY', 'WENTWORTH POINT', 'MELBOURNE', 'BRIGHTON',\n",
       "       'PHILLIP', 'GLEN IRIS', 'RIPPONLEA', 'BONDI JUNCTION',\n",
       "       'ST LEONARDS', 'LANE COVE', 'ORMOND', 'AUCHENFLOWER', 'CALDERWOOD',\n",
       "       'CREMORNE', 'BARTON', 'ABBOTSFORD', 'CHIPPENDALE', 'POTTS POINT',\n",
       "       'DOUBLE BAY', 'PENRITH', 'COBURG NORTH', 'CLAYFIELD',\n",
       "       'SURRY HILLS', 'SHOAL BAY', 'ARMADALE', 'TWEED HEADS SOUTH',\n",
       "       'FIVE DOCK', 'WAVERLEY', 'WILEY PARK', 'CROYDON PARK',\n",
       "       'MIDDLE RIDGE', 'WOODLANDS', 'BURDELL', 'CAMERON PARK',\n",
       "       'BELLEVUE HILL', 'WOOLLOOMOOLOO', 'MILSONS POINT', 'BELLBIRD PARK',\n",
       "       'KIRRIBILLI', 'SYDNEY', 'WYNDHAM VALE', 'MOSMAN', 'HENDRA',\n",
       "       'ARTARMON', 'ROSE BAY', 'BELCONNEN', 'REID', 'WATERLOO', 'KEW',\n",
       "       'QUEANBEYAN', 'BRADDON', 'PIMLICO', 'PUNCHBOWL', 'ASHBURTON',\n",
       "       'ENFIELD', 'FOOTSCRAY', 'CLEVELAND', 'COOMBS', 'NORTH TOOWOOMBA',\n",
       "       'BELMONT NORTH', 'NORTH RYDE', 'WEST MELBOURNE',\n",
       "       'NARRE WARREN SOUTH', 'WILLOUGHBY', 'FOREST LODGE', 'RANDWICK',\n",
       "       'FLETCHER', 'EAST ALBURY', 'ST IVES', 'FORDE', 'PETERSHAM',\n",
       "       'STRATHPINE', 'BRUCE', 'ST KILDA EAST', 'GLEN HUNTLY', 'WODONGA',\n",
       "       'COLLINGWOOD', 'TURRAMURRA', 'ADELAIDE', 'DICKSON', 'WATSON',\n",
       "       'ROUSE HILL', 'CHATSWOOD', 'NORTH BONDI', 'RYDE', 'NORTH RICHMOND',\n",
       "       'SANDRINGHAM', 'HORNSBY', 'PARKVILLE', 'ZILLMERE', 'NAIRNE',\n",
       "       'GLEBE', 'NEWNHAM', 'ALPHINGTON', 'CAMPERDOWN', 'NEWCASTLE',\n",
       "       'VAUCLUSE', 'COORPAROO', 'NORTH ALBURY', 'PADDINGTON', 'SEATON',\n",
       "       'THORNLEIGH', 'BUNDOORA', 'DARRA', 'MOUNT BARKER', 'TERRANORA',\n",
       "       'CAULFIELD NORTH', 'OAKS ESTATE', 'KAMBAH', 'MORAYFIELD',\n",
       "       'NEUTRAL BAY', 'LOCKROSE', 'DULWICH HILL', 'QUEANBEYAN EAST',\n",
       "       'FLYNN', 'SAFETY BEACH', 'EIGHT MILE PLAINS', 'CRACE',\n",
       "       'VARSITY LAKES', 'REGENTS PARK', 'NORTH WARD', 'AMAROO',\n",
       "       'RICHMOND', 'HILLSDALE', 'COOGEE', \"O'CONNOR\", 'ELSTERNWICK',\n",
       "       'MANGO HILL', 'CARNEGIE', 'CARLINGFORD', 'LYNEHAM', 'BLACKETT',\n",
       "       'CAMBERWELL', 'PYMBLE', 'MOUNT LOUISA', 'RACEVIEW',\n",
       "       'STANHOPE GARDENS', 'HAWKER', 'IVANHOE', 'KIRRAWEE',\n",
       "       'NORTH PARRAMATTA', 'SEVEN HILLS', 'LINDEN PARK', 'CANTERBURY',\n",
       "       'BELLMERE', 'LAVENDER BAY', 'OATLEY', 'NEW FARM', 'REDBANK PLAINS',\n",
       "       'HOLMVIEW', 'CARRARA', 'KLEMZIG', 'FOREST GLEN', 'DOUGLAS',\n",
       "       'STRATHFIELD SOUTH', 'WAVERTON', 'CLIFTON HILL', 'BENTLEIGH',\n",
       "       'CANNING VALE', 'DOVER HEIGHTS', 'SLACKS CREEK', 'CAVES BEACH',\n",
       "       'DOCKLANDS', 'KINGSFORD', 'SOUTHPORT', 'ASHGROVE',\n",
       "       'UPPER MOUNT GRAVATT', 'LIVERPOOL', 'LYONS', 'SEFTON', 'PRAHRAN',\n",
       "       'BRIGHTON EAST', 'CARLTON', 'FITZROY NORTH', 'PALMERSTON',\n",
       "       'EASTGARDENS', 'BALMAIN EAST', 'CHIFLEY', 'BONDI', 'MANLY',\n",
       "       'BLACKBURN', 'SAUNDERS BEACH', 'EASTLAKES', 'THE GAP', 'MOUNT LOW',\n",
       "       'GOOGONG', 'LINDFIELD', 'HURSTVILLE', 'PARRAMATTA', 'OXENFORD',\n",
       "       'NEWTOWN', 'HOMEBUSH WEST', 'CRANBROOK', 'HAMPTON',\n",
       "       'FRANKSTON SOUTH', 'KEW EAST', 'KELSO', 'DENMAN PROSPECT',\n",
       "       'HOMEBUSH', 'GOLDEN BEACH', 'WRIGHT', 'YANCHEP', 'MANSFIELD',\n",
       "       'CLARINDA', 'SINNAMON PARK', 'ELIZABETH BAY', 'UPPER COOMERA',\n",
       "       'SPRINGFIELD LAKES', 'BENTLEIGH EAST', 'DRUMMOYNE',\n",
       "       'OAKLEIGH EAST', 'PORT MACQUARIE', 'TOWNSVILLE CITY',\n",
       "       'KENSINGTON GROVE', 'NAREMBURN', 'RUSHCUTTERS BAY', 'MEREWETHER',\n",
       "       'FISHER', 'YAGOONA', 'NORTH HAVEN', 'WOOLOOWARE',\n",
       "       'BARRACK HEIGHTS', 'YARRALUMLA', 'GEORGE TOWN', 'MALVERN',\n",
       "       'LENAH VALLEY', 'NEWINGTON', 'CARLTON NORTH', 'BELFIELD',\n",
       "       'WHITLAM', 'MARRICKVILLE', 'MOUNT LOFTY', 'SPRINGFIELD',\n",
       "       'NORTH KELLYVILLE', 'BURWOOD', 'RIVERSTONE', 'BONDI BEACH',\n",
       "       'KARABAR', 'AUBURN', 'KOGARAH', 'ST PETERS', 'HUNTLY',\n",
       "       'BIRCHGROVE', 'MURRUMBA DOWNS', 'PENNANT HILLS', 'SEVILLE GROVE',\n",
       "       'BEACHMERE', 'PARK RIDGE', 'SALAMANDER BAY', 'LOGAN RESERVE',\n",
       "       'BORONIA', 'KENMORE', 'LILYFIELD', 'BALMAIN', 'DEVON PARK',\n",
       "       'KELLYVILLE', 'ROSSLEA', 'BENOWA', 'BERKELEY VALE', 'GRIFFITH',\n",
       "       'LAWSON', 'ROZELLE', 'WICKHAM', 'DOOLANDELLA', 'ISABELLA PLAINS',\n",
       "       'GREENACRE', 'HOLT', 'BAYSWATER', 'PEREGIAN SPRINGS', 'BONNER',\n",
       "       'EAST MELBOURNE', 'FRESHWATER', 'HOPE ISLAND', 'GLENEAGLE',\n",
       "       'NICHOLLS', 'MOLENDINAR', 'CANNONVALE', 'WEST END', 'HACKETT',\n",
       "       'HARRISON', 'FORREST', 'FITZGIBBON', 'RUSSELL LEA', 'BALGOWLAH',\n",
       "       'MEADOWBANK', 'TAMARAMA', 'CHAPMAN', 'PIARA WATERS',\n",
       "       'PICNIC POINT', 'CHARLESTOWN', 'MATRAVILLE', 'LEICHHARDT',\n",
       "       'MACQUARIE', 'CAMPBELLTOWN', 'BONEO', 'PYRMONT', 'GAWLER EAST',\n",
       "       'CARWOOLA', 'BADAGARANG', 'WERRIBEE', 'BOTANY', 'BALACLAVA',\n",
       "       'MIAMI', 'MERMAID BEACH', 'MERMAID WATERS', 'WEST MACKAY',\n",
       "       'BROADBEACH WATERS', 'CURTIN', 'SPEERS POINT', 'SURFERS PARADISE',\n",
       "       'EPPING', 'TOORAK', 'FRANKLIN', 'WOODWARK', 'HABERFIELD', 'TURNER',\n",
       "       'MASCOT', 'MOONAH', 'CITY', 'CAIRNS CITY', 'PARKES', 'CASEY',\n",
       "       'TINGALPA', 'RAILWAY ESTATE', 'EAST BRISBANE', 'GUILDFORD',\n",
       "       'RHODES', 'BUNDABERG SOUTH', 'MEDOWIE', 'JERRABOMBERRA',\n",
       "       'CARINDALE', 'CHISHOLM', 'COOMERA', 'WESTMEAD', 'HIGHETT',\n",
       "       'CLOVELLY', 'NORTH EPPING', 'BEECROFT', 'MARIBYRNONG',\n",
       "       'REEDY CREEK', 'VICTORIA POINT', 'LANE COVE NORTH', 'SCARBOROUGH',\n",
       "       'PAKENHAM', 'THE PONDS', 'SWANBOURNE', 'NORTH LAKES', 'MILL PARK',\n",
       "       'ERSKINEVILLE', 'TURRELLA', 'BOX HILL', 'NARANGBA', 'CABARITA',\n",
       "       'MONT ALBERT', 'GIRALANG', 'NGUNNAWAL', 'SINAGRA', 'MENTONE',\n",
       "       'WANTIRNA SOUTH', 'DOWNER', 'CLAYTON', 'PAGEWOOD', 'REDBANK',\n",
       "       'CAULFIELD', 'HAWTHORNE', 'MIRANDA', 'GATTON', 'REDCLIFFE',\n",
       "       'GAYTHORNE', 'NEW TOWN', 'SYDNEY OLYMPIC PARK', 'MANLY WEST',\n",
       "       'ALEXANDRIA', 'FLEMINGTON', 'FITZROY', 'JACKASS FLAT', 'ROSEBERY',\n",
       "       'DINGLEY VILLAGE', 'NUNDAH', 'NORTHCOTE', 'CHISWICK',\n",
       "       'DARLING HEIGHTS', 'MORDIALLOC', 'ANDERGROVE', 'SHEFFIELD',\n",
       "       'CROYDON', 'TENNYSON POINT', 'GLADESVILLE', 'ST KILDA WEST',\n",
       "       'LAKEMBA', 'OAKLEIGH', 'ASQUITH', 'HIGHGATE', 'HUNTERS HILL',\n",
       "       'MELBA', 'HOLSWORTHY', 'RANGEVILLE', 'BARANGAROO', 'NIRIMBA',\n",
       "       'MACQUARIE PARK', 'CASTLECRAG', 'STRATHNAIRN', 'WEST HOBART',\n",
       "       'KURRALTA PARK', 'THURGOONA', 'MODBURY NORTH', 'RIVERVIEW',\n",
       "       'KIRWAN', 'MOUNT COLAH', 'PARADISE POINT', 'MAUDSLAND', 'WARATAH',\n",
       "       'BROADBEACH', 'BEENLEIGH', 'PHILLIP BAY', 'VIRGINIA',\n",
       "       'MURRUMBEENA', 'LIDCOMBE', 'FLINDERS', 'DARLING POINT',\n",
       "       'RIVERWOOD', 'LITTLE BAY', 'BRONTE', 'EAST BALLINA', 'NARRABUNDAH',\n",
       "       'ECHUNGA', 'BATEMAN', 'SWAN VIEW', 'CALAMVALE'], dtype=object)"
      ]
     },
     "execution_count": 7,
     "metadata": {},
     "output_type": "execute_result"
    }
   ],
   "source": [
    "df[\"Suburb\"].unique()"
   ]
  },
  {
   "cell_type": "markdown",
   "id": "6af0e33d",
   "metadata": {},
   "source": [
    "There is no whitespaces in `Suburb`"
   ]
  },
  {
   "cell_type": "code",
   "execution_count": 8,
   "id": "dc0aad56",
   "metadata": {},
   "outputs": [
    {
     "data": {
      "text/plain": [
       "array(['NSW', 'WA', 'VIC', 'ACT', 'QLD', 'SA', 'NT', 'TAS'], dtype=object)"
      ]
     },
     "execution_count": 8,
     "metadata": {},
     "output_type": "execute_result"
    }
   ],
   "source": [
    "df['State'].unique()"
   ]
  },
  {
   "cell_type": "code",
   "execution_count": 9,
   "id": "57f91bf6",
   "metadata": {
    "scrolled": true
   },
   "outputs": [
    {
     "name": "stdout",
     "output_type": "stream",
     "text": [
      "                      Address          Suburb State  Post code   Price  \\\n",
      "0          3/9 Lambert Street        CAMMERAY   NSW       2062   690.0   \n",
      "1              18 Chatham Way      HARRISDALE    WA       6112   820.0   \n",
      "2    102/157-163 Burwood Road        HAWTHORN   VIC       3122   580.0   \n",
      "3                77 Unnaro St      COOLOONGUP    WA       6168   570.0   \n",
      "4            7/77 Milson Road  CREMORNE POINT   NSW       2090   850.0   \n",
      "..                        ...             ...   ...        ...     ...   \n",
      "991          73/1 Kiara Close    NORTH SYDNEY   NSW       2060  1250.0   \n",
      "992         13 Northend Close       SWAN VIEW    WA       6056   580.0   \n",
      "993    18/2-6 Junction Street            RYDE   NSW       2112   680.0   \n",
      "994      648A Willoughby Road      WILLOUGHBY   NSW       2068  1150.0   \n",
      "995            40 Orania Cres       CALAMVALE   QLD       4116   650.0   \n",
      "\n",
      "               Property type     Bed     Bath    Parking  \n",
      "0    Apartment / Unit / Flat  2 Beds   1 Bath          −  \n",
      "1                      House  4 Beds  2 Baths  2 Parking  \n",
      "2    Apartment / Unit / Flat  2 Beds   1 Bath  1 Parking  \n",
      "3                      House  3 Beds  2 Baths  3 Parking  \n",
      "4    Apartment / Unit / Flat  2 Beds   1 Bath          −  \n",
      "..                       ...     ...      ...        ...  \n",
      "991  Apartment / Unit / Flat  2 Beds  2 Baths  2 Parking  \n",
      "992                    House  4 Beds  2 Baths  1 Parking  \n",
      "993  Apartment / Unit / Flat   1 Bed   1 Bath  1 Parking  \n",
      "994                    House  2 Beds   1 Bath  2 Parking  \n",
      "995                    House  4 Beds  2 Baths  4 Parking  \n",
      "\n",
      "[996 rows x 9 columns]\n"
     ]
    }
   ],
   "source": [
    "# Handling column \"Price\"\n",
    "import re\n",
    "\n",
    "def extract_numbers(price):\n",
    "    if isinstance(price, str): # Ensure dtype of 'Price' is string\n",
    "        match = re.search(r'\\d[\\d,]*', price) # Apply regex\n",
    "        return int(match.group().replace(',', '')) if match else None # Remove commas and convert to integer\n",
    "    return None\n",
    "\n",
    "## Apply to column 'Price'\n",
    "df['Price'] = df['Price'].apply(extract_numbers)\n",
    "print(df)"
   ]
  },
  {
   "cell_type": "markdown",
   "id": "cdaefea5",
   "metadata": {},
   "source": [
    "**Inconsistancies in the \"Price\" column**\n",
    "\n",
    "'Price' column contains values in various format:\n",
    "   \n",
    "   - Plain numeric values (`$690`)\n",
    "   \n",
    "   - Decimals (`$850.00`)\n",
    "   \n",
    "   - Descriptive formats (`$750 pw`, `$750 PER WEEK`, `$750 Per week`, `$750 per week`, `$750 weekly`)\n",
    "\n",
    "   - Incorrect typos (`$4000/w`)\n",
    "   \n",
    "   - Comma-separated currency format (`$1,150`)\n",
    "   \n",
    "   - Noisy entries (`$650 per week!! Fully Air-conditioned Property!`)\n",
    "\n",
    "*Standardizing price*: The pattern `\\d[\\d]*` matches any sequence starting with a digit followed by digits or commas. It will stop matching at the first non-digit/non-comma character.\n",
    "   + `\\d`: match the first digit\n",
    "    \n",
    "   + `[\\d,]*`: match digits and commas, keep matching as long as the characters are digits and commas\n",
    "   "
   ]
  },
  {
   "cell_type": "code",
   "execution_count": 10,
   "id": "4072293b",
   "metadata": {},
   "outputs": [],
   "source": [
    "# Extract only number if column Bed, Bath, and Parking\n",
    "def extract_count(count):\n",
    "    if isinstance(count, str):\n",
    "        numbers = ''.join(re.findall(r'\\d+', count)) # Use regex to find\n",
    "        return int(numbers) if numbers else None\n",
    "    return None\n",
    "\n",
    "# Apply to column Bed, Bath, and Parking\n",
    "df['Bed'] = df['Bed'].apply(extract_count)\n",
    "df['Bath'] = df['Bath'].apply(extract_count)\n",
    "df['Parking'] = df['Parking'].apply(extract_count)"
   ]
  },
  {
   "cell_type": "code",
   "execution_count": 11,
   "id": "71a552a6",
   "metadata": {},
   "outputs": [],
   "source": [
    "# Handle missing values and convert values to int\n",
    "df['Bed'] = df['Bed'].fillna(0).astype(int)\n",
    "df['Bath'] = df['Bath'].fillna(0).astype(int)\n",
    "df['Parking'] = df['Parking'].fillna(0).astype(int)"
   ]
  },
  {
   "cell_type": "code",
   "execution_count": 12,
   "id": "f379f7be",
   "metadata": {},
   "outputs": [
    {
     "data": {
      "text/plain": [
       "Address          0\n",
       "Suburb           0\n",
       "State            0\n",
       "Post code        0\n",
       "Price            2\n",
       "Property type    0\n",
       "Bed              0\n",
       "Bath             0\n",
       "Parking          0\n",
       "dtype: int64"
      ]
     },
     "execution_count": 12,
     "metadata": {},
     "output_type": "execute_result"
    }
   ],
   "source": [
    "# Check for null values\n",
    "df.isnull().sum()"
   ]
  },
  {
   "cell_type": "code",
   "execution_count": 13,
   "id": "fcdb9ecc",
   "metadata": {},
   "outputs": [
    {
     "data": {
      "text/html": [
       "<div>\n",
       "<style scoped>\n",
       "    .dataframe tbody tr th:only-of-type {\n",
       "        vertical-align: middle;\n",
       "    }\n",
       "\n",
       "    .dataframe tbody tr th {\n",
       "        vertical-align: top;\n",
       "    }\n",
       "\n",
       "    .dataframe thead th {\n",
       "        text-align: right;\n",
       "    }\n",
       "</style>\n",
       "<table border=\"1\" class=\"dataframe\">\n",
       "  <thead>\n",
       "    <tr style=\"text-align: right;\">\n",
       "      <th></th>\n",
       "      <th>Address</th>\n",
       "      <th>Suburb</th>\n",
       "      <th>State</th>\n",
       "      <th>Post code</th>\n",
       "      <th>Price</th>\n",
       "      <th>Property type</th>\n",
       "      <th>Bed</th>\n",
       "      <th>Bath</th>\n",
       "      <th>Parking</th>\n",
       "    </tr>\n",
       "  </thead>\n",
       "  <tbody>\n",
       "    <tr>\n",
       "      <th>634</th>\n",
       "      <td>1/19 Henderson Road</td>\n",
       "      <td>QUEANBEYAN</td>\n",
       "      <td>NSW</td>\n",
       "      <td>2620</td>\n",
       "      <td>NaN</td>\n",
       "      <td>Townhouse</td>\n",
       "      <td>2</td>\n",
       "      <td>2</td>\n",
       "      <td>1</td>\n",
       "    </tr>\n",
       "    <tr>\n",
       "      <th>651</th>\n",
       "      <td>705/71 Macquarie Street</td>\n",
       "      <td>SYDNEY</td>\n",
       "      <td>NSW</td>\n",
       "      <td>2000</td>\n",
       "      <td>NaN</td>\n",
       "      <td>Apartment / Unit / Flat</td>\n",
       "      <td>1</td>\n",
       "      <td>1</td>\n",
       "      <td>1</td>\n",
       "    </tr>\n",
       "  </tbody>\n",
       "</table>\n",
       "</div>"
      ],
      "text/plain": [
       "                     Address      Suburb State  Post code  Price  \\\n",
       "634      1/19 Henderson Road  QUEANBEYAN   NSW       2620    NaN   \n",
       "651  705/71 Macquarie Street      SYDNEY   NSW       2000    NaN   \n",
       "\n",
       "               Property type  Bed  Bath  Parking  \n",
       "634                Townhouse    2     2        1  \n",
       "651  Apartment / Unit / Flat    1     1        1  "
      ]
     },
     "execution_count": 13,
     "metadata": {},
     "output_type": "execute_result"
    }
   ],
   "source": [
    "null_price = df.loc[df['Price'].isna()]\n",
    "null_price"
   ]
  },
  {
   "cell_type": "code",
   "execution_count": 14,
   "id": "8ff45bd0",
   "metadata": {},
   "outputs": [],
   "source": [
    "# Drop rows with missing values\n",
    "df.dropna(inplace=True)"
   ]
  },
  {
   "cell_type": "code",
   "execution_count": 15,
   "id": "c3f62c39",
   "metadata": {
    "scrolled": true
   },
   "outputs": [
    {
     "data": {
      "text/html": [
       "<div>\n",
       "<style scoped>\n",
       "    .dataframe tbody tr th:only-of-type {\n",
       "        vertical-align: middle;\n",
       "    }\n",
       "\n",
       "    .dataframe tbody tr th {\n",
       "        vertical-align: top;\n",
       "    }\n",
       "\n",
       "    .dataframe thead th {\n",
       "        text-align: right;\n",
       "    }\n",
       "</style>\n",
       "<table border=\"1\" class=\"dataframe\">\n",
       "  <thead>\n",
       "    <tr style=\"text-align: right;\">\n",
       "      <th></th>\n",
       "      <th>Address</th>\n",
       "      <th>Suburb</th>\n",
       "      <th>State</th>\n",
       "      <th>Post code</th>\n",
       "      <th>Price</th>\n",
       "      <th>Property type</th>\n",
       "      <th>Bed</th>\n",
       "      <th>Bath</th>\n",
       "      <th>Parking</th>\n",
       "    </tr>\n",
       "  </thead>\n",
       "  <tbody>\n",
       "    <tr>\n",
       "      <th>76</th>\n",
       "      <td>5/24 Eliza Street</td>\n",
       "      <td>CLAYFIELD</td>\n",
       "      <td>QLD</td>\n",
       "      <td>4011</td>\n",
       "      <td>600.0</td>\n",
       "      <td>Apartment / Unit / Flat</td>\n",
       "      <td>0</td>\n",
       "      <td>0</td>\n",
       "      <td>0</td>\n",
       "    </tr>\n",
       "    <tr>\n",
       "      <th>836</th>\n",
       "      <td>705/9 Union Street</td>\n",
       "      <td>NUNDAH</td>\n",
       "      <td>QLD</td>\n",
       "      <td>4012</td>\n",
       "      <td>520.0</td>\n",
       "      <td>Apartment / Unit / Flat</td>\n",
       "      <td>0</td>\n",
       "      <td>0</td>\n",
       "      <td>0</td>\n",
       "    </tr>\n",
       "  </tbody>\n",
       "</table>\n",
       "</div>"
      ],
      "text/plain": [
       "                Address     Suburb State  Post code  Price  \\\n",
       "76    5/24 Eliza Street  CLAYFIELD   QLD       4011  600.0   \n",
       "836  705/9 Union Street     NUNDAH   QLD       4012  520.0   \n",
       "\n",
       "               Property type  Bed  Bath  Parking  \n",
       "76   Apartment / Unit / Flat    0     0        0  \n",
       "836  Apartment / Unit / Flat    0     0        0  "
      ]
     },
     "execution_count": 15,
     "metadata": {},
     "output_type": "execute_result"
    }
   ],
   "source": [
    "# Check for rows having no bed, bath, and parking\n",
    "imcomplete_listing = df.loc[(df['Bed'] == 0) & (df['Bath'] == 0) & (df['Parking'] == 0)]\n",
    "imcomplete_listing"
   ]
  },
  {
   "cell_type": "code",
   "execution_count": 16,
   "id": "667de659",
   "metadata": {},
   "outputs": [
    {
     "data": {
      "text/plain": [
       "(992, 9)"
      ]
     },
     "execution_count": 16,
     "metadata": {},
     "output_type": "execute_result"
    }
   ],
   "source": [
    "# Remove rows having no bed, bath, and parking\n",
    "df = df[~((df['Bed'] == 0) & (df['Bath'] == 0) & (df['Parking'] == 0))]\n",
    "df.shape"
   ]
  },
  {
   "cell_type": "code",
   "execution_count": 18,
   "id": "63d8c2e7",
   "metadata": {
    "scrolled": true
   },
   "outputs": [
    {
     "data": {
      "text/html": [
       "<div>\n",
       "<style scoped>\n",
       "    .dataframe tbody tr th:only-of-type {\n",
       "        vertical-align: middle;\n",
       "    }\n",
       "\n",
       "    .dataframe tbody tr th {\n",
       "        vertical-align: top;\n",
       "    }\n",
       "\n",
       "    .dataframe thead th {\n",
       "        text-align: right;\n",
       "    }\n",
       "</style>\n",
       "<table border=\"1\" class=\"dataframe\">\n",
       "  <thead>\n",
       "    <tr style=\"text-align: right;\">\n",
       "      <th></th>\n",
       "      <th>Post code</th>\n",
       "      <th>Price</th>\n",
       "      <th>Bed</th>\n",
       "      <th>Bath</th>\n",
       "      <th>Parking</th>\n",
       "    </tr>\n",
       "  </thead>\n",
       "  <tbody>\n",
       "    <tr>\n",
       "      <th>count</th>\n",
       "      <td>992.000000</td>\n",
       "      <td>992.000000</td>\n",
       "      <td>992.000000</td>\n",
       "      <td>992.000000</td>\n",
       "      <td>992.000000</td>\n",
       "    </tr>\n",
       "    <tr>\n",
       "      <th>mean</th>\n",
       "      <td>2881.787298</td>\n",
       "      <td>830.648185</td>\n",
       "      <td>2.356855</td>\n",
       "      <td>1.518145</td>\n",
       "      <td>1.230847</td>\n",
       "    </tr>\n",
       "    <tr>\n",
       "      <th>std</th>\n",
       "      <td>1042.593018</td>\n",
       "      <td>465.794169</td>\n",
       "      <td>1.135463</td>\n",
       "      <td>0.650757</td>\n",
       "      <td>0.859526</td>\n",
       "    </tr>\n",
       "    <tr>\n",
       "      <th>min</th>\n",
       "      <td>800.000000</td>\n",
       "      <td>1.000000</td>\n",
       "      <td>0.000000</td>\n",
       "      <td>1.000000</td>\n",
       "      <td>0.000000</td>\n",
       "    </tr>\n",
       "    <tr>\n",
       "      <th>25%</th>\n",
       "      <td>2064.000000</td>\n",
       "      <td>580.000000</td>\n",
       "      <td>2.000000</td>\n",
       "      <td>1.000000</td>\n",
       "      <td>1.000000</td>\n",
       "    </tr>\n",
       "    <tr>\n",
       "      <th>50%</th>\n",
       "      <td>2611.000000</td>\n",
       "      <td>720.000000</td>\n",
       "      <td>2.000000</td>\n",
       "      <td>1.000000</td>\n",
       "      <td>1.000000</td>\n",
       "    </tr>\n",
       "    <tr>\n",
       "      <th>75%</th>\n",
       "      <td>3182.000000</td>\n",
       "      <td>900.000000</td>\n",
       "      <td>3.000000</td>\n",
       "      <td>2.000000</td>\n",
       "      <td>2.000000</td>\n",
       "    </tr>\n",
       "    <tr>\n",
       "      <th>max</th>\n",
       "      <td>7306.000000</td>\n",
       "      <td>6000.000000</td>\n",
       "      <td>7.000000</td>\n",
       "      <td>6.000000</td>\n",
       "      <td>7.000000</td>\n",
       "    </tr>\n",
       "  </tbody>\n",
       "</table>\n",
       "</div>"
      ],
      "text/plain": [
       "         Post code        Price         Bed        Bath     Parking\n",
       "count   992.000000   992.000000  992.000000  992.000000  992.000000\n",
       "mean   2881.787298   830.648185    2.356855    1.518145    1.230847\n",
       "std    1042.593018   465.794169    1.135463    0.650757    0.859526\n",
       "min     800.000000     1.000000    0.000000    1.000000    0.000000\n",
       "25%    2064.000000   580.000000    2.000000    1.000000    1.000000\n",
       "50%    2611.000000   720.000000    2.000000    1.000000    1.000000\n",
       "75%    3182.000000   900.000000    3.000000    2.000000    2.000000\n",
       "max    7306.000000  6000.000000    7.000000    6.000000    7.000000"
      ]
     },
     "execution_count": 18,
     "metadata": {},
     "output_type": "execute_result"
    }
   ],
   "source": [
    "df.describe()"
   ]
  },
  {
   "cell_type": "code",
   "execution_count": 19,
   "id": "407f9cc5",
   "metadata": {},
   "outputs": [],
   "source": [
    "df.to_csv('cleaned_property_data.csv', index=False)"
   ]
  }
 ],
 "metadata": {
  "kernelspec": {
   "display_name": "Python 3 (ipykernel)",
   "language": "python",
   "name": "python3"
  },
  "language_info": {
   "codemirror_mode": {
    "name": "ipython",
    "version": 3
   },
   "file_extension": ".py",
   "mimetype": "text/x-python",
   "name": "python",
   "nbconvert_exporter": "python",
   "pygments_lexer": "ipython3",
   "version": "3.11.5"
  }
 },
 "nbformat": 4,
 "nbformat_minor": 5
}
